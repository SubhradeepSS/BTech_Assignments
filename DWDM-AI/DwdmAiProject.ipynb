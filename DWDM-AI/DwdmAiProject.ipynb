{
  "nbformat": 4,
  "nbformat_minor": 5,
  "metadata": {
    "kernelspec": {
      "display_name": "Python 3",
      "language": "python",
      "name": "python3"
    },
    "language_info": {
      "codemirror_mode": {
        "name": "ipython",
        "version": 3
      },
      "file_extension": ".py",
      "mimetype": "text/x-python",
      "name": "python",
      "nbconvert_exporter": "python",
      "pygments_lexer": "ipython3",
      "version": "3.7.10"
    },
    "papermill": {
      "default_parameters": {},
      "duration": 27.938242,
      "end_time": "2021-04-21T21:35:13.860899",
      "environment_variables": {},
      "exception": null,
      "input_path": "__notebook__.ipynb",
      "output_path": "__notebook__.ipynb",
      "parameters": {},
      "start_time": "2021-04-21T21:34:45.922657",
      "version": "2.3.3"
    },
    "colab": {
      "name": "DwdmAiProject.ipynb",
      "provenance": [],
      "collapsed_sections": []
    },
    "accelerator": "GPU"
  },
  "cells": [
    {
      "cell_type": "markdown",
      "metadata": {
        "_cell_guid": "b1076dfc-b9ad-4769-8c92-a6c4dae69d19",
        "_uuid": "8f2839f25d086af736a60e9eeb907d3b93b6e0e5",
        "papermill": {
          "duration": 0.034072,
          "end_time": "2021-04-21T21:34:54.402613",
          "exception": false,
          "start_time": "2021-04-21T21:34:54.368541",
          "status": "completed"
        },
        "tags": [],
        "id": "computational-surfing"
      },
      "source": [
        "## This is the project for DWDM-AI Course made by\n",
        "\n",
        "\n",
        "1.   **Rvs Satyanand 106118083**\n",
        "2.   **Shrey Garg 106118087**\n",
        "3.   **Subhradeep Saha 106118095**\n",
        "4.   **Yash Shah 106118107**\n",
        "\n",
        "\n",
        "### **Here we have made use of the heart attack eda dataset to predict the chances of heart attack based on the features given below**\n",
        "\n"
      ],
      "id": "computational-surfing"
    },
    {
      "cell_type": "markdown",
      "metadata": {
        "papermill": {
          "duration": 0.032139,
          "end_time": "2021-04-21T21:34:54.467180",
          "exception": false,
          "start_time": "2021-04-21T21:34:54.435041",
          "status": "completed"
        },
        "tags": [],
        "id": "stretch-color"
      },
      "source": [
        "# Features:\n",
        "\n",
        "1. age: Age of the patient in years\n",
        "\n",
        "2. sex: Sex of the patient (1 = male; 0 = female)\n",
        "\n",
        "3. cp: Chest pain type, 0 = Typical Angina, 1 = Atypical Angina, 2 = Non-anginal Pain, 3 = Asymptomatic\n",
        "(Its a type of chest pain measurement used in the medical field.)\n",
        "4. trtbps: Resting blood pressure (in mm Hg)\n",
        "\n",
        "5. chol: Cholestoral in mg/dl fetched via BMI sensor\n",
        "\n",
        "6. fbs: (fasting blood sugar > 120 mg/dl), 1 = True, 0 = False\n",
        "\n",
        "7. restecg: Resting electrocardiographic results, 0 = Normal, 1 = ST-T wave normality, 2 = showing probable or definite left ventricular hypertrophy by Estes' criteria\n",
        "\n",
        "8. thalachh: Maximum heart rate achieved\n",
        "\n",
        "9. oldpeak: Previous peak\n",
        "\n",
        "10. slp: Slope\n",
        "\n",
        "11. caa: Number of major vessels\n",
        "\n",
        "12. thall: Thalium Stress Test result, (0-3)\n",
        "\n",
        "13. exng: Exercise induced angina, 1 = Yes, 0 = No\n",
        "\n",
        "14. output:  0 = less chance of heart attack, 1 = more chance of heart attack"
      ],
      "id": "stretch-color"
    },
    {
      "cell_type": "markdown",
      "metadata": {
        "papermill": {
          "duration": 0.031931,
          "end_time": "2021-04-21T21:34:54.531532",
          "exception": false,
          "start_time": "2021-04-21T21:34:54.499601",
          "status": "completed"
        },
        "tags": [],
        "id": "future-fields"
      },
      "source": [
        "# Importing Libraries"
      ],
      "id": "future-fields"
    },
    {
      "cell_type": "code",
      "metadata": {
        "execution": {
          "iopub.execute_input": "2021-04-21T21:34:54.609108Z",
          "iopub.status.busy": "2021-04-21T21:34:54.608283Z",
          "iopub.status.idle": "2021-04-21T21:34:56.088267Z",
          "shell.execute_reply": "2021-04-21T21:34:56.087495Z"
        },
        "papermill": {
          "duration": 1.524836,
          "end_time": "2021-04-21T21:34:56.088432",
          "exception": false,
          "start_time": "2021-04-21T21:34:54.563596",
          "status": "completed"
        },
        "tags": [],
        "colab": {
          "base_uri": "https://localhost:8080/"
        },
        "id": "banned-shakespeare",
        "outputId": "3a8ad3b3-a322-4f47-c4ab-09e0afc94b50"
      },
      "source": [
        "import numpy as np\n",
        "import pandas as pd\n",
        "import matplotlib.pyplot as plt\n",
        "import seaborn as sns\n",
        "import warnings\n",
        "warnings.filterwarnings(\"ignore\")\n",
        "from sklearn.svm import SVC\n",
        "from sklearn.tree import DecisionTreeClassifier\n",
        "from sklearn.ensemble import RandomForestClassifier\n",
        "from sklearn.ensemble import GradientBoostingClassifier\n",
        "from sklearn.ensemble import AdaBoostClassifier\n",
        "from sklearn.model_selection import RepeatedStratifiedKFold\n",
        "from sklearn.model_selection import GridSearchCV\n",
        "from sklearn.metrics import accuracy_score\n",
        "from sklearn.metrics import confusion_matrix\n",
        "from sklearn.preprocessing import StandardScaler\n",
        "from sklearn.linear_model import LogisticRegression\n",
        "from sklearn.neighbors import KNeighborsClassifier\n",
        "\n",
        "\n",
        "!pip install pywaffle\n",
        "from pywaffle import Waffle\n",
        "\n",
        "import xgboost as xgb"
      ],
      "id": "banned-shakespeare",
      "execution_count": 1,
      "outputs": [
        {
          "output_type": "stream",
          "text": [
            "Collecting pywaffle\n",
            "\u001b[?25l  Downloading https://files.pythonhosted.org/packages/e2/93/9a1e014fef383149b0f6dccdb8b2f2126d8827d4d48f2884949d6f8769ea/pywaffle-0.6.1-py2.py3-none-any.whl (526kB)\n",
            "\r\u001b[K     |▋                               | 10kB 24.7MB/s eta 0:00:01\r\u001b[K     |█▎                              | 20kB 29.8MB/s eta 0:00:01\r\u001b[K     |█▉                              | 30kB 33.7MB/s eta 0:00:01\r\u001b[K     |██▌                             | 40kB 34.3MB/s eta 0:00:01\r\u001b[K     |███                             | 51kB 35.6MB/s eta 0:00:01\r\u001b[K     |███▊                            | 61kB 36.6MB/s eta 0:00:01\r\u001b[K     |████▍                           | 71kB 33.7MB/s eta 0:00:01\r\u001b[K     |█████                           | 81kB 34.1MB/s eta 0:00:01\r\u001b[K     |█████▋                          | 92kB 35.4MB/s eta 0:00:01\r\u001b[K     |██████▏                         | 102kB 32.5MB/s eta 0:00:01\r\u001b[K     |██████▉                         | 112kB 32.5MB/s eta 0:00:01\r\u001b[K     |███████▌                        | 122kB 32.5MB/s eta 0:00:01\r\u001b[K     |████████                        | 133kB 32.5MB/s eta 0:00:01\r\u001b[K     |████████▊                       | 143kB 32.5MB/s eta 0:00:01\r\u001b[K     |█████████▎                      | 153kB 32.5MB/s eta 0:00:01\r\u001b[K     |██████████                      | 163kB 32.5MB/s eta 0:00:01\r\u001b[K     |██████████▋                     | 174kB 32.5MB/s eta 0:00:01\r\u001b[K     |███████████▏                    | 184kB 32.5MB/s eta 0:00:01\r\u001b[K     |███████████▉                    | 194kB 32.5MB/s eta 0:00:01\r\u001b[K     |████████████▍                   | 204kB 32.5MB/s eta 0:00:01\r\u001b[K     |█████████████                   | 215kB 32.5MB/s eta 0:00:01\r\u001b[K     |█████████████▊                  | 225kB 32.5MB/s eta 0:00:01\r\u001b[K     |██████████████▎                 | 235kB 32.5MB/s eta 0:00:01\r\u001b[K     |███████████████                 | 245kB 32.5MB/s eta 0:00:01\r\u001b[K     |███████████████▌                | 256kB 32.5MB/s eta 0:00:01\r\u001b[K     |████████████████▏               | 266kB 32.5MB/s eta 0:00:01\r\u001b[K     |████████████████▉               | 276kB 32.5MB/s eta 0:00:01\r\u001b[K     |█████████████████▍              | 286kB 32.5MB/s eta 0:00:01\r\u001b[K     |██████████████████              | 296kB 32.5MB/s eta 0:00:01\r\u001b[K     |██████████████████▋             | 307kB 32.5MB/s eta 0:00:01\r\u001b[K     |███████████████████▎            | 317kB 32.5MB/s eta 0:00:01\r\u001b[K     |████████████████████            | 327kB 32.5MB/s eta 0:00:01\r\u001b[K     |████████████████████▌           | 337kB 32.5MB/s eta 0:00:01\r\u001b[K     |█████████████████████▏          | 348kB 32.5MB/s eta 0:00:01\r\u001b[K     |█████████████████████▊          | 358kB 32.5MB/s eta 0:00:01\r\u001b[K     |██████████████████████▍         | 368kB 32.5MB/s eta 0:00:01\r\u001b[K     |███████████████████████         | 378kB 32.5MB/s eta 0:00:01\r\u001b[K     |███████████████████████▋        | 389kB 32.5MB/s eta 0:00:01\r\u001b[K     |████████████████████████▎       | 399kB 32.5MB/s eta 0:00:01\r\u001b[K     |████████████████████████▉       | 409kB 32.5MB/s eta 0:00:01\r\u001b[K     |█████████████████████████▌      | 419kB 32.5MB/s eta 0:00:01\r\u001b[K     |██████████████████████████▏     | 430kB 32.5MB/s eta 0:00:01\r\u001b[K     |██████████████████████████▊     | 440kB 32.5MB/s eta 0:00:01\r\u001b[K     |███████████████████████████▍    | 450kB 32.5MB/s eta 0:00:01\r\u001b[K     |████████████████████████████    | 460kB 32.5MB/s eta 0:00:01\r\u001b[K     |████████████████████████████▋   | 471kB 32.5MB/s eta 0:00:01\r\u001b[K     |█████████████████████████████▎  | 481kB 32.5MB/s eta 0:00:01\r\u001b[K     |█████████████████████████████▉  | 491kB 32.5MB/s eta 0:00:01\r\u001b[K     |██████████████████████████████▌ | 501kB 32.5MB/s eta 0:00:01\r\u001b[K     |███████████████████████████████ | 512kB 32.5MB/s eta 0:00:01\r\u001b[K     |███████████████████████████████▊| 522kB 32.5MB/s eta 0:00:01\r\u001b[K     |████████████████████████████████| 532kB 32.5MB/s \n",
            "\u001b[?25hRequirement already satisfied: matplotlib in /usr/local/lib/python3.7/dist-packages (from pywaffle) (3.2.2)\n",
            "Requirement already satisfied: numpy>=1.11 in /usr/local/lib/python3.7/dist-packages (from matplotlib->pywaffle) (1.19.5)\n",
            "Requirement already satisfied: cycler>=0.10 in /usr/local/lib/python3.7/dist-packages (from matplotlib->pywaffle) (0.10.0)\n",
            "Requirement already satisfied: kiwisolver>=1.0.1 in /usr/local/lib/python3.7/dist-packages (from matplotlib->pywaffle) (1.3.1)\n",
            "Requirement already satisfied: python-dateutil>=2.1 in /usr/local/lib/python3.7/dist-packages (from matplotlib->pywaffle) (2.8.1)\n",
            "Requirement already satisfied: pyparsing!=2.0.4,!=2.1.2,!=2.1.6,>=2.0.1 in /usr/local/lib/python3.7/dist-packages (from matplotlib->pywaffle) (2.4.7)\n",
            "Requirement already satisfied: six in /usr/local/lib/python3.7/dist-packages (from cycler>=0.10->matplotlib->pywaffle) (1.15.0)\n",
            "Installing collected packages: pywaffle\n",
            "Successfully installed pywaffle-0.6.1\n"
          ],
          "name": "stdout"
        }
      ]
    },
    {
      "cell_type": "markdown",
      "metadata": {
        "papermill": {
          "duration": 0.03187,
          "end_time": "2021-04-21T21:34:56.152723",
          "exception": false,
          "start_time": "2021-04-21T21:34:56.120853",
          "status": "completed"
        },
        "tags": [],
        "id": "interim-bridal"
      },
      "source": [
        "# Loading the dataset (heart.csv)"
      ],
      "id": "interim-bridal"
    },
    {
      "cell_type": "code",
      "metadata": {
        "execution": {
          "iopub.execute_input": "2021-04-21T21:34:56.222730Z",
          "iopub.status.busy": "2021-04-21T21:34:56.222086Z",
          "iopub.status.idle": "2021-04-21T21:34:56.263652Z",
          "shell.execute_reply": "2021-04-21T21:34:56.264174Z"
        },
        "papermill": {
          "duration": 0.079412,
          "end_time": "2021-04-21T21:34:56.264341",
          "exception": false,
          "start_time": "2021-04-21T21:34:56.184929",
          "status": "completed"
        },
        "tags": [],
        "colab": {
          "base_uri": "https://localhost:8080/",
          "height": 280
        },
        "id": "gorgeous-satisfaction",
        "outputId": "3644afc2-1fa2-4b0b-c0c4-e93fedbf8936"
      },
      "source": [
        "!gdown --id \"1PZrvfcuHDSCP5wSRLJcVi9Ser_XR9cYs\"\n",
        "\n",
        "data = pd.read_csv('./heart.csv')\n",
        "data.head()"
      ],
      "id": "gorgeous-satisfaction",
      "execution_count": 2,
      "outputs": [
        {
          "output_type": "stream",
          "text": [
            "Downloading...\n",
            "From: https://drive.google.com/uc?id=1PZrvfcuHDSCP5wSRLJcVi9Ser_XR9cYs\n",
            "To: /content/heart.csv\n",
            "\r  0% 0.00/11.3k [00:00<?, ?B/s]\r100% 11.3k/11.3k [00:00<00:00, 19.9MB/s]\n"
          ],
          "name": "stdout"
        },
        {
          "output_type": "execute_result",
          "data": {
            "text/html": [
              "<div>\n",
              "<style scoped>\n",
              "    .dataframe tbody tr th:only-of-type {\n",
              "        vertical-align: middle;\n",
              "    }\n",
              "\n",
              "    .dataframe tbody tr th {\n",
              "        vertical-align: top;\n",
              "    }\n",
              "\n",
              "    .dataframe thead th {\n",
              "        text-align: right;\n",
              "    }\n",
              "</style>\n",
              "<table border=\"1\" class=\"dataframe\">\n",
              "  <thead>\n",
              "    <tr style=\"text-align: right;\">\n",
              "      <th></th>\n",
              "      <th>age</th>\n",
              "      <th>sex</th>\n",
              "      <th>cp</th>\n",
              "      <th>trtbps</th>\n",
              "      <th>chol</th>\n",
              "      <th>fbs</th>\n",
              "      <th>restecg</th>\n",
              "      <th>thalachh</th>\n",
              "      <th>exng</th>\n",
              "      <th>oldpeak</th>\n",
              "      <th>slp</th>\n",
              "      <th>caa</th>\n",
              "      <th>thall</th>\n",
              "      <th>output</th>\n",
              "    </tr>\n",
              "  </thead>\n",
              "  <tbody>\n",
              "    <tr>\n",
              "      <th>0</th>\n",
              "      <td>63</td>\n",
              "      <td>1</td>\n",
              "      <td>3</td>\n",
              "      <td>145</td>\n",
              "      <td>233</td>\n",
              "      <td>1</td>\n",
              "      <td>0</td>\n",
              "      <td>150</td>\n",
              "      <td>0</td>\n",
              "      <td>2.3</td>\n",
              "      <td>0</td>\n",
              "      <td>0</td>\n",
              "      <td>1</td>\n",
              "      <td>1</td>\n",
              "    </tr>\n",
              "    <tr>\n",
              "      <th>1</th>\n",
              "      <td>37</td>\n",
              "      <td>1</td>\n",
              "      <td>2</td>\n",
              "      <td>130</td>\n",
              "      <td>250</td>\n",
              "      <td>0</td>\n",
              "      <td>1</td>\n",
              "      <td>187</td>\n",
              "      <td>0</td>\n",
              "      <td>3.5</td>\n",
              "      <td>0</td>\n",
              "      <td>0</td>\n",
              "      <td>2</td>\n",
              "      <td>1</td>\n",
              "    </tr>\n",
              "    <tr>\n",
              "      <th>2</th>\n",
              "      <td>41</td>\n",
              "      <td>0</td>\n",
              "      <td>1</td>\n",
              "      <td>130</td>\n",
              "      <td>204</td>\n",
              "      <td>0</td>\n",
              "      <td>0</td>\n",
              "      <td>172</td>\n",
              "      <td>0</td>\n",
              "      <td>1.4</td>\n",
              "      <td>2</td>\n",
              "      <td>0</td>\n",
              "      <td>2</td>\n",
              "      <td>1</td>\n",
              "    </tr>\n",
              "    <tr>\n",
              "      <th>3</th>\n",
              "      <td>56</td>\n",
              "      <td>1</td>\n",
              "      <td>1</td>\n",
              "      <td>120</td>\n",
              "      <td>236</td>\n",
              "      <td>0</td>\n",
              "      <td>1</td>\n",
              "      <td>178</td>\n",
              "      <td>0</td>\n",
              "      <td>0.8</td>\n",
              "      <td>2</td>\n",
              "      <td>0</td>\n",
              "      <td>2</td>\n",
              "      <td>1</td>\n",
              "    </tr>\n",
              "    <tr>\n",
              "      <th>4</th>\n",
              "      <td>57</td>\n",
              "      <td>0</td>\n",
              "      <td>0</td>\n",
              "      <td>120</td>\n",
              "      <td>354</td>\n",
              "      <td>0</td>\n",
              "      <td>1</td>\n",
              "      <td>163</td>\n",
              "      <td>1</td>\n",
              "      <td>0.6</td>\n",
              "      <td>2</td>\n",
              "      <td>0</td>\n",
              "      <td>2</td>\n",
              "      <td>1</td>\n",
              "    </tr>\n",
              "  </tbody>\n",
              "</table>\n",
              "</div>"
            ],
            "text/plain": [
              "   age  sex  cp  trtbps  chol  fbs  ...  exng  oldpeak  slp  caa  thall  output\n",
              "0   63    1   3     145   233    1  ...     0      2.3    0    0      1       1\n",
              "1   37    1   2     130   250    0  ...     0      3.5    0    0      2       1\n",
              "2   41    0   1     130   204    0  ...     0      1.4    2    0      2       1\n",
              "3   56    1   1     120   236    0  ...     0      0.8    2    0      2       1\n",
              "4   57    0   0     120   354    0  ...     1      0.6    2    0      2       1\n",
              "\n",
              "[5 rows x 14 columns]"
            ]
          },
          "metadata": {
            "tags": []
          },
          "execution_count": 2
        }
      ]
    },
    {
      "cell_type": "markdown",
      "metadata": {
        "papermill": {
          "duration": 0.033048,
          "end_time": "2021-04-21T21:34:56.331433",
          "exception": false,
          "start_time": "2021-04-21T21:34:56.298385",
          "status": "completed"
        },
        "tags": [],
        "id": "urban-event"
      },
      "source": [
        "**I'm going to take copy of original data for visualization**"
      ],
      "id": "urban-event"
    },
    {
      "cell_type": "code",
      "metadata": {
        "execution": {
          "iopub.execute_input": "2021-04-21T21:34:56.401689Z",
          "iopub.status.busy": "2021-04-21T21:34:56.400989Z",
          "iopub.status.idle": "2021-04-21T21:34:56.404949Z",
          "shell.execute_reply": "2021-04-21T21:34:56.405445Z"
        },
        "papermill": {
          "duration": 0.040841,
          "end_time": "2021-04-21T21:34:56.405615",
          "exception": false,
          "start_time": "2021-04-21T21:34:56.364774",
          "status": "completed"
        },
        "tags": [],
        "id": "pressing-swaziland"
      },
      "source": [
        "df1 = data.copy()"
      ],
      "id": "pressing-swaziland",
      "execution_count": 3,
      "outputs": []
    },
    {
      "cell_type": "markdown",
      "metadata": {
        "papermill": {
          "duration": 0.033121,
          "end_time": "2021-04-21T21:34:56.472190",
          "exception": false,
          "start_time": "2021-04-21T21:34:56.439069",
          "status": "completed"
        },
        "tags": [],
        "id": "silver-columbus"
      },
      "source": [
        "# Data Preprocessing"
      ],
      "id": "silver-columbus"
    },
    {
      "cell_type": "code",
      "metadata": {
        "execution": {
          "iopub.execute_input": "2021-04-21T21:34:56.542463Z",
          "iopub.status.busy": "2021-04-21T21:34:56.541837Z",
          "iopub.status.idle": "2021-04-21T21:34:56.564386Z",
          "shell.execute_reply": "2021-04-21T21:34:56.563665Z"
        },
        "papermill": {
          "duration": 0.059024,
          "end_time": "2021-04-21T21:34:56.564531",
          "exception": false,
          "start_time": "2021-04-21T21:34:56.505507",
          "status": "completed"
        },
        "tags": [],
        "colab": {
          "base_uri": "https://localhost:8080/"
        },
        "id": "fallen-accuracy",
        "outputId": "447e674b-ec55-4bbb-99e7-6aeef4d51ca9"
      },
      "source": [
        "df1.info()"
      ],
      "id": "fallen-accuracy",
      "execution_count": 4,
      "outputs": [
        {
          "output_type": "stream",
          "text": [
            "<class 'pandas.core.frame.DataFrame'>\n",
            "RangeIndex: 303 entries, 0 to 302\n",
            "Data columns (total 14 columns):\n",
            " #   Column    Non-Null Count  Dtype  \n",
            "---  ------    --------------  -----  \n",
            " 0   age       303 non-null    int64  \n",
            " 1   sex       303 non-null    int64  \n",
            " 2   cp        303 non-null    int64  \n",
            " 3   trtbps    303 non-null    int64  \n",
            " 4   chol      303 non-null    int64  \n",
            " 5   fbs       303 non-null    int64  \n",
            " 6   restecg   303 non-null    int64  \n",
            " 7   thalachh  303 non-null    int64  \n",
            " 8   exng      303 non-null    int64  \n",
            " 9   oldpeak   303 non-null    float64\n",
            " 10  slp       303 non-null    int64  \n",
            " 11  caa       303 non-null    int64  \n",
            " 12  thall     303 non-null    int64  \n",
            " 13  output    303 non-null    int64  \n",
            "dtypes: float64(1), int64(13)\n",
            "memory usage: 33.3 KB\n"
          ],
          "name": "stdout"
        }
      ]
    },
    {
      "cell_type": "code",
      "metadata": {
        "execution": {
          "iopub.execute_input": "2021-04-21T21:34:56.637114Z",
          "iopub.status.busy": "2021-04-21T21:34:56.636332Z",
          "iopub.status.idle": "2021-04-21T21:34:56.640740Z",
          "shell.execute_reply": "2021-04-21T21:34:56.640169Z"
        },
        "papermill": {
          "duration": 0.042642,
          "end_time": "2021-04-21T21:34:56.640896",
          "exception": false,
          "start_time": "2021-04-21T21:34:56.598254",
          "status": "completed"
        },
        "tags": [],
        "colab": {
          "base_uri": "https://localhost:8080/"
        },
        "id": "needed-supplier",
        "outputId": "e8e2ef8a-4ff3-4c81-8fba-9d87350be1dd"
      },
      "source": [
        "df1.shape"
      ],
      "id": "needed-supplier",
      "execution_count": 5,
      "outputs": [
        {
          "output_type": "execute_result",
          "data": {
            "text/plain": [
              "(303, 14)"
            ]
          },
          "metadata": {
            "tags": []
          },
          "execution_count": 5
        }
      ]
    },
    {
      "cell_type": "code",
      "metadata": {
        "execution": {
          "iopub.execute_input": "2021-04-21T21:34:56.720351Z",
          "iopub.status.busy": "2021-04-21T21:34:56.719449Z",
          "iopub.status.idle": "2021-04-21T21:34:56.724091Z",
          "shell.execute_reply": "2021-04-21T21:34:56.723462Z"
        },
        "papermill": {
          "duration": 0.048938,
          "end_time": "2021-04-21T21:34:56.724228",
          "exception": false,
          "start_time": "2021-04-21T21:34:56.675290",
          "status": "completed"
        },
        "tags": [],
        "colab": {
          "base_uri": "https://localhost:8080/"
        },
        "id": "smaller-malpractice",
        "outputId": "cbb0cc03-1644-49ed-be94-82f18de25566"
      },
      "source": [
        "df1.duplicated().sum()"
      ],
      "id": "smaller-malpractice",
      "execution_count": 6,
      "outputs": [
        {
          "output_type": "execute_result",
          "data": {
            "text/plain": [
              "1"
            ]
          },
          "metadata": {
            "tags": []
          },
          "execution_count": 6
        }
      ]
    },
    {
      "cell_type": "code",
      "metadata": {
        "execution": {
          "iopub.execute_input": "2021-04-21T21:34:56.798512Z",
          "iopub.status.busy": "2021-04-21T21:34:56.797874Z",
          "iopub.status.idle": "2021-04-21T21:34:56.817339Z",
          "shell.execute_reply": "2021-04-21T21:34:56.816607Z"
        },
        "papermill": {
          "duration": 0.057314,
          "end_time": "2021-04-21T21:34:56.817486",
          "exception": false,
          "start_time": "2021-04-21T21:34:56.760172",
          "status": "completed"
        },
        "tags": [],
        "colab": {
          "base_uri": "https://localhost:8080/",
          "height": 81
        },
        "id": "manual-sharing",
        "outputId": "9d848777-311a-483a-f364-74cbc5358cda"
      },
      "source": [
        "df1[df1.duplicated()]"
      ],
      "id": "manual-sharing",
      "execution_count": 7,
      "outputs": [
        {
          "output_type": "execute_result",
          "data": {
            "text/html": [
              "<div>\n",
              "<style scoped>\n",
              "    .dataframe tbody tr th:only-of-type {\n",
              "        vertical-align: middle;\n",
              "    }\n",
              "\n",
              "    .dataframe tbody tr th {\n",
              "        vertical-align: top;\n",
              "    }\n",
              "\n",
              "    .dataframe thead th {\n",
              "        text-align: right;\n",
              "    }\n",
              "</style>\n",
              "<table border=\"1\" class=\"dataframe\">\n",
              "  <thead>\n",
              "    <tr style=\"text-align: right;\">\n",
              "      <th></th>\n",
              "      <th>age</th>\n",
              "      <th>sex</th>\n",
              "      <th>cp</th>\n",
              "      <th>trtbps</th>\n",
              "      <th>chol</th>\n",
              "      <th>fbs</th>\n",
              "      <th>restecg</th>\n",
              "      <th>thalachh</th>\n",
              "      <th>exng</th>\n",
              "      <th>oldpeak</th>\n",
              "      <th>slp</th>\n",
              "      <th>caa</th>\n",
              "      <th>thall</th>\n",
              "      <th>output</th>\n",
              "    </tr>\n",
              "  </thead>\n",
              "  <tbody>\n",
              "    <tr>\n",
              "      <th>164</th>\n",
              "      <td>38</td>\n",
              "      <td>1</td>\n",
              "      <td>2</td>\n",
              "      <td>138</td>\n",
              "      <td>175</td>\n",
              "      <td>0</td>\n",
              "      <td>1</td>\n",
              "      <td>173</td>\n",
              "      <td>0</td>\n",
              "      <td>0.0</td>\n",
              "      <td>2</td>\n",
              "      <td>4</td>\n",
              "      <td>2</td>\n",
              "      <td>1</td>\n",
              "    </tr>\n",
              "  </tbody>\n",
              "</table>\n",
              "</div>"
            ],
            "text/plain": [
              "     age  sex  cp  trtbps  chol  fbs  ...  exng  oldpeak  slp  caa  thall  output\n",
              "164   38    1   2     138   175    0  ...     0      0.0    2    4      2       1\n",
              "\n",
              "[1 rows x 14 columns]"
            ]
          },
          "metadata": {
            "tags": []
          },
          "execution_count": 7
        }
      ]
    },
    {
      "cell_type": "code",
      "metadata": {
        "execution": {
          "iopub.execute_input": "2021-04-21T21:34:56.899456Z",
          "iopub.status.busy": "2021-04-21T21:34:56.898529Z",
          "iopub.status.idle": "2021-04-21T21:34:56.902181Z",
          "shell.execute_reply": "2021-04-21T21:34:56.902635Z"
        },
        "papermill": {
          "duration": 0.048461,
          "end_time": "2021-04-21T21:34:56.902829",
          "exception": false,
          "start_time": "2021-04-21T21:34:56.854368",
          "status": "completed"
        },
        "tags": [],
        "colab": {
          "base_uri": "https://localhost:8080/"
        },
        "id": "forbidden-switch",
        "outputId": "795dd630-5f5f-41fc-86e2-21f5b0ae67bb"
      },
      "source": [
        "df1.drop_duplicates(inplace=True) # dropping duplicated rows\n",
        "df1.reset_index(drop=True, inplace=True)\n",
        "df1.shape"
      ],
      "id": "forbidden-switch",
      "execution_count": 8,
      "outputs": [
        {
          "output_type": "execute_result",
          "data": {
            "text/plain": [
              "(302, 14)"
            ]
          },
          "metadata": {
            "tags": []
          },
          "execution_count": 8
        }
      ]
    },
    {
      "cell_type": "code",
      "metadata": {
        "execution": {
          "iopub.execute_input": "2021-04-21T21:34:56.978834Z",
          "iopub.status.busy": "2021-04-21T21:34:56.977829Z",
          "iopub.status.idle": "2021-04-21T21:34:56.987358Z",
          "shell.execute_reply": "2021-04-21T21:34:56.986603Z"
        },
        "papermill": {
          "duration": 0.04917,
          "end_time": "2021-04-21T21:34:56.987500",
          "exception": false,
          "start_time": "2021-04-21T21:34:56.938330",
          "status": "completed"
        },
        "tags": [],
        "colab": {
          "base_uri": "https://localhost:8080/"
        },
        "id": "developing-muscle",
        "outputId": "d9a8b69f-7077-42b7-b1f3-8ea3149da148"
      },
      "source": [
        "df1.isnull().sum() # Checking null values"
      ],
      "id": "developing-muscle",
      "execution_count": 9,
      "outputs": [
        {
          "output_type": "execute_result",
          "data": {
            "text/plain": [
              "age         0\n",
              "sex         0\n",
              "cp          0\n",
              "trtbps      0\n",
              "chol        0\n",
              "fbs         0\n",
              "restecg     0\n",
              "thalachh    0\n",
              "exng        0\n",
              "oldpeak     0\n",
              "slp         0\n",
              "caa         0\n",
              "thall       0\n",
              "output      0\n",
              "dtype: int64"
            ]
          },
          "metadata": {
            "tags": []
          },
          "execution_count": 9
        }
      ]
    },
    {
      "cell_type": "markdown",
      "metadata": {
        "papermill": {
          "duration": 0.036044,
          "end_time": "2021-04-21T21:34:57.060369",
          "exception": false,
          "start_time": "2021-04-21T21:34:57.024325",
          "status": "completed"
        },
        "tags": [],
        "id": "wanted-depression"
      },
      "source": [
        "**Now, I'm going to change column values for better understanding**"
      ],
      "id": "wanted-depression"
    },
    {
      "cell_type": "code",
      "metadata": {
        "execution": {
          "iopub.execute_input": "2021-04-21T21:34:57.164641Z",
          "iopub.status.busy": "2021-04-21T21:34:57.163466Z",
          "iopub.status.idle": "2021-04-21T21:34:57.168406Z",
          "shell.execute_reply": "2021-04-21T21:34:57.167768Z"
        },
        "papermill": {
          "duration": 0.070914,
          "end_time": "2021-04-21T21:34:57.168553",
          "exception": false,
          "start_time": "2021-04-21T21:34:57.097639",
          "status": "completed"
        },
        "tags": [],
        "colab": {
          "base_uri": "https://localhost:8080/",
          "height": 206
        },
        "id": "celtic-california",
        "outputId": "dd200b5b-13cc-4a3a-ebbd-81f6313091b8"
      },
      "source": [
        "df1['exng'] = df1['exng'].map({1:'yes',0:'no'})\n",
        "df1['cp'] = df1['cp'].map({0:'typical angina',1:'atypical angina',2:'non-anginal pain',3:'asymptomatic'})\n",
        "df1['fbs'] = df1['fbs'].map({1:'true',0:'false'})\n",
        "df1['sex'] = df1['sex'].map({1:'male',0:'female'})\n",
        "df1['restecg'] = df1['restecg'].map({0:'normal',1:'having ST-T wave abnormality',2:'showing probable or definite left ventricular hypertrophy'})\n",
        "df1['output'] = df1['output'].map({0:'less chance of heart attack',1:'more chance of heart attack'})\n",
        "df1.sample(5)"
      ],
      "id": "celtic-california",
      "execution_count": 10,
      "outputs": [
        {
          "output_type": "execute_result",
          "data": {
            "text/html": [
              "<div>\n",
              "<style scoped>\n",
              "    .dataframe tbody tr th:only-of-type {\n",
              "        vertical-align: middle;\n",
              "    }\n",
              "\n",
              "    .dataframe tbody tr th {\n",
              "        vertical-align: top;\n",
              "    }\n",
              "\n",
              "    .dataframe thead th {\n",
              "        text-align: right;\n",
              "    }\n",
              "</style>\n",
              "<table border=\"1\" class=\"dataframe\">\n",
              "  <thead>\n",
              "    <tr style=\"text-align: right;\">\n",
              "      <th></th>\n",
              "      <th>age</th>\n",
              "      <th>sex</th>\n",
              "      <th>cp</th>\n",
              "      <th>trtbps</th>\n",
              "      <th>chol</th>\n",
              "      <th>fbs</th>\n",
              "      <th>restecg</th>\n",
              "      <th>thalachh</th>\n",
              "      <th>exng</th>\n",
              "      <th>oldpeak</th>\n",
              "      <th>slp</th>\n",
              "      <th>caa</th>\n",
              "      <th>thall</th>\n",
              "      <th>output</th>\n",
              "    </tr>\n",
              "  </thead>\n",
              "  <tbody>\n",
              "    <tr>\n",
              "      <th>178</th>\n",
              "      <td>57</td>\n",
              "      <td>male</td>\n",
              "      <td>typical angina</td>\n",
              "      <td>150</td>\n",
              "      <td>276</td>\n",
              "      <td>false</td>\n",
              "      <td>normal</td>\n",
              "      <td>112</td>\n",
              "      <td>yes</td>\n",
              "      <td>0.6</td>\n",
              "      <td>1</td>\n",
              "      <td>1</td>\n",
              "      <td>1</td>\n",
              "      <td>less chance of heart attack</td>\n",
              "    </tr>\n",
              "    <tr>\n",
              "      <th>47</th>\n",
              "      <td>47</td>\n",
              "      <td>male</td>\n",
              "      <td>non-anginal pain</td>\n",
              "      <td>138</td>\n",
              "      <td>257</td>\n",
              "      <td>false</td>\n",
              "      <td>normal</td>\n",
              "      <td>156</td>\n",
              "      <td>no</td>\n",
              "      <td>0.0</td>\n",
              "      <td>2</td>\n",
              "      <td>0</td>\n",
              "      <td>2</td>\n",
              "      <td>more chance of heart attack</td>\n",
              "    </tr>\n",
              "    <tr>\n",
              "      <th>40</th>\n",
              "      <td>51</td>\n",
              "      <td>female</td>\n",
              "      <td>non-anginal pain</td>\n",
              "      <td>140</td>\n",
              "      <td>308</td>\n",
              "      <td>false</td>\n",
              "      <td>normal</td>\n",
              "      <td>142</td>\n",
              "      <td>no</td>\n",
              "      <td>1.5</td>\n",
              "      <td>2</td>\n",
              "      <td>1</td>\n",
              "      <td>2</td>\n",
              "      <td>more chance of heart attack</td>\n",
              "    </tr>\n",
              "    <tr>\n",
              "      <th>189</th>\n",
              "      <td>51</td>\n",
              "      <td>female</td>\n",
              "      <td>typical angina</td>\n",
              "      <td>130</td>\n",
              "      <td>305</td>\n",
              "      <td>false</td>\n",
              "      <td>having ST-T wave abnormality</td>\n",
              "      <td>142</td>\n",
              "      <td>yes</td>\n",
              "      <td>1.2</td>\n",
              "      <td>1</td>\n",
              "      <td>0</td>\n",
              "      <td>3</td>\n",
              "      <td>less chance of heart attack</td>\n",
              "    </tr>\n",
              "    <tr>\n",
              "      <th>67</th>\n",
              "      <td>45</td>\n",
              "      <td>female</td>\n",
              "      <td>atypical angina</td>\n",
              "      <td>130</td>\n",
              "      <td>234</td>\n",
              "      <td>false</td>\n",
              "      <td>normal</td>\n",
              "      <td>175</td>\n",
              "      <td>no</td>\n",
              "      <td>0.6</td>\n",
              "      <td>1</td>\n",
              "      <td>0</td>\n",
              "      <td>2</td>\n",
              "      <td>more chance of heart attack</td>\n",
              "    </tr>\n",
              "  </tbody>\n",
              "</table>\n",
              "</div>"
            ],
            "text/plain": [
              "     age     sex                cp  ...  caa  thall                       output\n",
              "178   57    male    typical angina  ...    1      1  less chance of heart attack\n",
              "47    47    male  non-anginal pain  ...    0      2  more chance of heart attack\n",
              "40    51  female  non-anginal pain  ...    1      2  more chance of heart attack\n",
              "189   51  female    typical angina  ...    0      3  less chance of heart attack\n",
              "67    45  female   atypical angina  ...    0      2  more chance of heart attack\n",
              "\n",
              "[5 rows x 14 columns]"
            ]
          },
          "metadata": {
            "tags": []
          },
          "execution_count": 10
        }
      ]
    },
    {
      "cell_type": "markdown",
      "metadata": {
        "id": "TMqc8zqhCJic"
      },
      "source": [
        "# **Data Distribution!**"
      ],
      "id": "TMqc8zqhCJic"
    },
    {
      "cell_type": "code",
      "metadata": {
        "colab": {
          "base_uri": "https://localhost:8080/"
        },
        "id": "ZWOknIOw_uHR",
        "outputId": "ce1f8c52-c337-4d4a-a903-21177c78ff0d"
      },
      "source": [
        "heart_disease = df1['output'].value_counts().values[0]\n",
        "heart_disease_no =  df1['output'].value_counts().values[1]\n",
        "\n",
        "no_percent = int(round(heart_disease_no/(heart_disease+heart_disease_no) * 100, 0))\n",
        "yes_percent = int(round(heart_disease/(heart_disease+heart_disease_no)* 100, 0))\n",
        "\n",
        "print(\"Number of postivie result \", yes_percent,\"%\")\n",
        "print(\"Number of negative result \", no_percent,\"%\")\n",
        "\n",
        " "
      ],
      "id": "ZWOknIOw_uHR",
      "execution_count": 11,
      "outputs": [
        {
          "output_type": "stream",
          "text": [
            "Number of postivie result  54 %\n",
            "Number of negative result  46 %\n"
          ],
          "name": "stdout"
        }
      ]
    },
    {
      "cell_type": "markdown",
      "metadata": {
        "id": "TiRTrB6CBVcu"
      },
      "source": [
        "As 54% of the person have heart attack so data is almost balanced so no need to balance the data."
      ],
      "id": "TiRTrB6CBVcu"
    },
    {
      "cell_type": "markdown",
      "metadata": {
        "papermill": {
          "duration": 0.038831,
          "end_time": "2021-04-21T21:34:58.069417",
          "exception": false,
          "start_time": "2021-04-21T21:34:58.030586",
          "status": "completed"
        },
        "tags": [],
        "id": "sixth-layer"
      },
      "source": [
        "# Countplot"
      ],
      "id": "sixth-layer"
    },
    {
      "cell_type": "code",
      "metadata": {
        "execution": {
          "iopub.execute_input": "2021-04-21T21:34:58.294842Z",
          "iopub.status.busy": "2021-04-21T21:34:58.286841Z",
          "iopub.status.idle": "2021-04-21T21:34:59.589009Z",
          "shell.execute_reply": "2021-04-21T21:34:59.589527Z"
        },
        "papermill": {
          "duration": 1.480818,
          "end_time": "2021-04-21T21:34:59.589693",
          "exception": false,
          "start_time": "2021-04-21T21:34:58.108875",
          "status": "completed"
        },
        "tags": [],
        "colab": {
          "base_uri": "https://localhost:8080/",
          "height": 1000
        },
        "id": "material-colony",
        "outputId": "677535c3-5d80-45f1-e900-4a8bf54c635a"
      },
      "source": [
        "plt.figure(figsize=(20,30))\n",
        "plt.subplots_adjust(left=0.1,\n",
        "                    bottom=0.1, \n",
        "                    right=0.9, \n",
        "                    top=0.9, \n",
        "                    wspace=0.4, \n",
        "                    hspace=0.4)\n",
        "\n",
        "plt.subplot(4,2,1)\n",
        "plt.title('Prevalence of Heart attack by Sex',fontsize=15)\n",
        "sns.countplot(df1['output'], hue=df1['sex'])\n",
        "\n",
        "plt.subplot(4,2,2)\n",
        "plt.title('Prevalence of Heart attack by Chest Pain',fontsize=15)\n",
        "sns.countplot(df1['output'], hue=df1['cp'])\n",
        "\n",
        "plt.subplot(4,2,3)\n",
        "plt.title('Prevalence of Heart attack by fasting blood sugar > 120 mg/dl',fontsize=15)\n",
        "sns.countplot(df1['output'],hue=df1['fbs'])\n",
        "\n",
        "plt.subplot(4,2,4)\n",
        "plt.title('Prevalence of Heart attack by restecg',fontsize=15)\n",
        "sns.countplot(df1['output'],hue = df1['restecg'])\n",
        "\n",
        "plt.subplot(4,2,5)\n",
        "plt.title('Prevalence of Heart attack by Exercise induced angina',fontsize=15)\n",
        "sns.countplot(df1['output'],hue=df1['exng'])\n",
        "\n",
        "plt.subplot(4,2,6)\n",
        "plt.title('Prevalence of Heart attack by slp',fontsize=15)\n",
        "sns.countplot(df1['output'],hue=df1['slp'])\n",
        "\n",
        "plt.subplot(4,2,7)\n",
        "plt.title('Prevalence of Heart attack by number of major vessels',fontsize=15)\n",
        "sns.countplot(df1['output'],hue=df1['caa'])\n",
        "\n",
        "plt.subplot(4,2,8)\n",
        "plt.title('Prevalence of Heart attack by thall',fontsize=15)\n",
        "sns.countplot(df1['output'],hue=df1['thall'])"
      ],
      "id": "material-colony",
      "execution_count": 12,
      "outputs": [
        {
          "output_type": "execute_result",
          "data": {
            "text/plain": [
              "<matplotlib.axes._subplots.AxesSubplot at 0x7f6bbf0c3050>"
            ]
          },
          "metadata": {
            "tags": []
          },
          "execution_count": 12
        },
        {
          "output_type": "display_data",
          "data": {
            "image/png": "[encoded data removed]",
            "text/plain": [
              "<Figure size 1440x2160 with 8 Axes>"
            ]
          },
          "metadata": {
            "tags": [],
            "needs_background": "light"
          }
        }
      ]
    },
    {
      "cell_type": "markdown",
      "metadata": {
        "papermill": {
          "duration": 0.062264,
          "end_time": "2021-04-21T21:35:08.279997",
          "exception": false,
          "start_time": "2021-04-21T21:35:08.217733",
          "status": "completed"
        },
        "tags": [],
        "id": "inner-fundamental"
      },
      "source": [
        " </br></br>\n",
        "**Some Important Insights:** </br>\n",
        "\n",
        "1.Person having high chest pain are more probable to suffer from Heart Attack.</br>\n",
        "\n",
        "2.Person having higher heart rate are more probable to suffer from Heart Attack.\n",
        "</br>\n",
        "\n",
        "3.Males are more probable to suffer from heart attack as compare to Females.</br>\n",
        "\n",
        "4.Person doesnot have exercied indeced enginal are higly probable to suffer </br>from heart attack.</br>\n",
        "\n",
        "5.Person having chest pain of Non-anginal type are more probable to suffer from Heart Attack.</br>\n",
        "\n",
        "6.People Showing Electrocardiograph of ST-T wave normality type are more probable to suffer from Heart Attack.</br>"
      ],
      "id": "inner-fundamental"
    },
    {
      "cell_type": "markdown",
      "metadata": {
        "papermill": {
          "duration": 0.061897,
          "end_time": "2021-04-21T21:35:08.404422",
          "exception": false,
          "start_time": "2021-04-21T21:35:08.342525",
          "status": "completed"
        },
        "tags": [],
        "id": "printable-formation"
      },
      "source": [
        "# **Prediction**"
      ],
      "id": "printable-formation"
    },
    {
      "cell_type": "markdown",
      "metadata": {
        "papermill": {
          "duration": 0.06198,
          "end_time": "2021-04-21T21:35:08.529298",
          "exception": false,
          "start_time": "2021-04-21T21:35:08.467318",
          "status": "completed"
        },
        "tags": [],
        "id": "differential-ribbon"
      },
      "source": [
        "Taking copy from Original Data"
      ],
      "id": "differential-ribbon"
    },
    {
      "cell_type": "code",
      "metadata": {
        "execution": {
          "iopub.execute_input": "2021-04-21T21:35:08.670535Z",
          "iopub.status.busy": "2021-04-21T21:35:08.669657Z",
          "iopub.status.idle": "2021-04-21T21:35:08.673693Z",
          "shell.execute_reply": "2021-04-21T21:35:08.673087Z"
        },
        "papermill": {
          "duration": 0.081793,
          "end_time": "2021-04-21T21:35:08.673859",
          "exception": false,
          "start_time": "2021-04-21T21:35:08.592066",
          "status": "completed"
        },
        "tags": [],
        "colab": {
          "base_uri": "https://localhost:8080/",
          "height": 206
        },
        "id": "recreational-seminar",
        "outputId": "63f0afb4-9467-4859-abcd-09982e5804ee"
      },
      "source": [
        "df2 = data.copy()\n",
        "df2.head()"
      ],
      "id": "recreational-seminar",
      "execution_count": 13,
      "outputs": [
        {
          "output_type": "execute_result",
          "data": {
            "text/html": [
              "<div>\n",
              "<style scoped>\n",
              "    .dataframe tbody tr th:only-of-type {\n",
              "        vertical-align: middle;\n",
              "    }\n",
              "\n",
              "    .dataframe tbody tr th {\n",
              "        vertical-align: top;\n",
              "    }\n",
              "\n",
              "    .dataframe thead th {\n",
              "        text-align: right;\n",
              "    }\n",
              "</style>\n",
              "<table border=\"1\" class=\"dataframe\">\n",
              "  <thead>\n",
              "    <tr style=\"text-align: right;\">\n",
              "      <th></th>\n",
              "      <th>age</th>\n",
              "      <th>sex</th>\n",
              "      <th>cp</th>\n",
              "      <th>trtbps</th>\n",
              "      <th>chol</th>\n",
              "      <th>fbs</th>\n",
              "      <th>restecg</th>\n",
              "      <th>thalachh</th>\n",
              "      <th>exng</th>\n",
              "      <th>oldpeak</th>\n",
              "      <th>slp</th>\n",
              "      <th>caa</th>\n",
              "      <th>thall</th>\n",
              "      <th>output</th>\n",
              "    </tr>\n",
              "  </thead>\n",
              "  <tbody>\n",
              "    <tr>\n",
              "      <th>0</th>\n",
              "      <td>63</td>\n",
              "      <td>1</td>\n",
              "      <td>3</td>\n",
              "      <td>145</td>\n",
              "      <td>233</td>\n",
              "      <td>1</td>\n",
              "      <td>0</td>\n",
              "      <td>150</td>\n",
              "      <td>0</td>\n",
              "      <td>2.3</td>\n",
              "      <td>0</td>\n",
              "      <td>0</td>\n",
              "      <td>1</td>\n",
              "      <td>1</td>\n",
              "    </tr>\n",
              "    <tr>\n",
              "      <th>1</th>\n",
              "      <td>37</td>\n",
              "      <td>1</td>\n",
              "      <td>2</td>\n",
              "      <td>130</td>\n",
              "      <td>250</td>\n",
              "      <td>0</td>\n",
              "      <td>1</td>\n",
              "      <td>187</td>\n",
              "      <td>0</td>\n",
              "      <td>3.5</td>\n",
              "      <td>0</td>\n",
              "      <td>0</td>\n",
              "      <td>2</td>\n",
              "      <td>1</td>\n",
              "    </tr>\n",
              "    <tr>\n",
              "      <th>2</th>\n",
              "      <td>41</td>\n",
              "      <td>0</td>\n",
              "      <td>1</td>\n",
              "      <td>130</td>\n",
              "      <td>204</td>\n",
              "      <td>0</td>\n",
              "      <td>0</td>\n",
              "      <td>172</td>\n",
              "      <td>0</td>\n",
              "      <td>1.4</td>\n",
              "      <td>2</td>\n",
              "      <td>0</td>\n",
              "      <td>2</td>\n",
              "      <td>1</td>\n",
              "    </tr>\n",
              "    <tr>\n",
              "      <th>3</th>\n",
              "      <td>56</td>\n",
              "      <td>1</td>\n",
              "      <td>1</td>\n",
              "      <td>120</td>\n",
              "      <td>236</td>\n",
              "      <td>0</td>\n",
              "      <td>1</td>\n",
              "      <td>178</td>\n",
              "      <td>0</td>\n",
              "      <td>0.8</td>\n",
              "      <td>2</td>\n",
              "      <td>0</td>\n",
              "      <td>2</td>\n",
              "      <td>1</td>\n",
              "    </tr>\n",
              "    <tr>\n",
              "      <th>4</th>\n",
              "      <td>57</td>\n",
              "      <td>0</td>\n",
              "      <td>0</td>\n",
              "      <td>120</td>\n",
              "      <td>354</td>\n",
              "      <td>0</td>\n",
              "      <td>1</td>\n",
              "      <td>163</td>\n",
              "      <td>1</td>\n",
              "      <td>0.6</td>\n",
              "      <td>2</td>\n",
              "      <td>0</td>\n",
              "      <td>2</td>\n",
              "      <td>1</td>\n",
              "    </tr>\n",
              "  </tbody>\n",
              "</table>\n",
              "</div>"
            ],
            "text/plain": [
              "   age  sex  cp  trtbps  chol  fbs  ...  exng  oldpeak  slp  caa  thall  output\n",
              "0   63    1   3     145   233    1  ...     0      2.3    0    0      1       1\n",
              "1   37    1   2     130   250    0  ...     0      3.5    0    0      2       1\n",
              "2   41    0   1     130   204    0  ...     0      1.4    2    0      2       1\n",
              "3   56    1   1     120   236    0  ...     0      0.8    2    0      2       1\n",
              "4   57    0   0     120   354    0  ...     1      0.6    2    0      2       1\n",
              "\n",
              "[5 rows x 14 columns]"
            ]
          },
          "metadata": {
            "tags": []
          },
          "execution_count": 13
        }
      ]
    },
    {
      "cell_type": "markdown",
      "metadata": {
        "papermill": {
          "duration": 0.06335,
          "end_time": "2021-04-21T21:35:08.800228",
          "exception": false,
          "start_time": "2021-04-21T21:35:08.736878",
          "status": "completed"
        },
        "tags": [],
        "id": "several-corps"
      },
      "source": [
        "## Dropping Duplicate values"
      ],
      "id": "several-corps"
    },
    {
      "cell_type": "code",
      "metadata": {
        "execution": {
          "iopub.execute_input": "2021-04-21T21:35:08.943336Z",
          "iopub.status.busy": "2021-04-21T21:35:08.942386Z",
          "iopub.status.idle": "2021-04-21T21:35:08.947631Z",
          "shell.execute_reply": "2021-04-21T21:35:08.947075Z"
        },
        "papermill": {
          "duration": 0.081566,
          "end_time": "2021-04-21T21:35:08.947772",
          "exception": false,
          "start_time": "2021-04-21T21:35:08.866206",
          "status": "completed"
        },
        "tags": [],
        "colab": {
          "base_uri": "https://localhost:8080/"
        },
        "id": "central-flush",
        "outputId": "e23abbfc-7be2-43a5-b11f-3530469593dd"
      },
      "source": [
        "df2.drop_duplicates(inplace=True)\n",
        "df2.reset_index(drop=True, inplace=True)\n",
        "df2.isnull().sum()"
      ],
      "id": "central-flush",
      "execution_count": 14,
      "outputs": [
        {
          "output_type": "execute_result",
          "data": {
            "text/plain": [
              "age         0\n",
              "sex         0\n",
              "cp          0\n",
              "trtbps      0\n",
              "chol        0\n",
              "fbs         0\n",
              "restecg     0\n",
              "thalachh    0\n",
              "exng        0\n",
              "oldpeak     0\n",
              "slp         0\n",
              "caa         0\n",
              "thall       0\n",
              "output      0\n",
              "dtype: int64"
            ]
          },
          "metadata": {
            "tags": []
          },
          "execution_count": 14
        }
      ]
    },
    {
      "cell_type": "code",
      "metadata": {
        "execution": {
          "iopub.execute_input": "2021-04-21T21:35:09.092329Z",
          "iopub.status.busy": "2021-04-21T21:35:09.091591Z",
          "iopub.status.idle": "2021-04-21T21:35:09.096589Z",
          "shell.execute_reply": "2021-04-21T21:35:09.095642Z"
        },
        "papermill": {
          "duration": 0.083986,
          "end_time": "2021-04-21T21:35:09.096742",
          "exception": false,
          "start_time": "2021-04-21T21:35:09.012756",
          "status": "completed"
        },
        "tags": [],
        "id": "opposed-sheep",
        "colab": {
          "base_uri": "https://localhost:8080/",
          "height": 206
        },
        "outputId": "ecf5fd70-9e7a-4b17-ac8c-80ce95f64f90"
      },
      "source": [
        "df2.reset_index(drop=True,inplace=True)\n",
        "df2.head()"
      ],
      "id": "opposed-sheep",
      "execution_count": 15,
      "outputs": [
        {
          "output_type": "execute_result",
          "data": {
            "text/html": [
              "<div>\n",
              "<style scoped>\n",
              "    .dataframe tbody tr th:only-of-type {\n",
              "        vertical-align: middle;\n",
              "    }\n",
              "\n",
              "    .dataframe tbody tr th {\n",
              "        vertical-align: top;\n",
              "    }\n",
              "\n",
              "    .dataframe thead th {\n",
              "        text-align: right;\n",
              "    }\n",
              "</style>\n",
              "<table border=\"1\" class=\"dataframe\">\n",
              "  <thead>\n",
              "    <tr style=\"text-align: right;\">\n",
              "      <th></th>\n",
              "      <th>age</th>\n",
              "      <th>sex</th>\n",
              "      <th>cp</th>\n",
              "      <th>trtbps</th>\n",
              "      <th>chol</th>\n",
              "      <th>fbs</th>\n",
              "      <th>restecg</th>\n",
              "      <th>thalachh</th>\n",
              "      <th>exng</th>\n",
              "      <th>oldpeak</th>\n",
              "      <th>slp</th>\n",
              "      <th>caa</th>\n",
              "      <th>thall</th>\n",
              "      <th>output</th>\n",
              "    </tr>\n",
              "  </thead>\n",
              "  <tbody>\n",
              "    <tr>\n",
              "      <th>0</th>\n",
              "      <td>63</td>\n",
              "      <td>1</td>\n",
              "      <td>3</td>\n",
              "      <td>145</td>\n",
              "      <td>233</td>\n",
              "      <td>1</td>\n",
              "      <td>0</td>\n",
              "      <td>150</td>\n",
              "      <td>0</td>\n",
              "      <td>2.3</td>\n",
              "      <td>0</td>\n",
              "      <td>0</td>\n",
              "      <td>1</td>\n",
              "      <td>1</td>\n",
              "    </tr>\n",
              "    <tr>\n",
              "      <th>1</th>\n",
              "      <td>37</td>\n",
              "      <td>1</td>\n",
              "      <td>2</td>\n",
              "      <td>130</td>\n",
              "      <td>250</td>\n",
              "      <td>0</td>\n",
              "      <td>1</td>\n",
              "      <td>187</td>\n",
              "      <td>0</td>\n",
              "      <td>3.5</td>\n",
              "      <td>0</td>\n",
              "      <td>0</td>\n",
              "      <td>2</td>\n",
              "      <td>1</td>\n",
              "    </tr>\n",
              "    <tr>\n",
              "      <th>2</th>\n",
              "      <td>41</td>\n",
              "      <td>0</td>\n",
              "      <td>1</td>\n",
              "      <td>130</td>\n",
              "      <td>204</td>\n",
              "      <td>0</td>\n",
              "      <td>0</td>\n",
              "      <td>172</td>\n",
              "      <td>0</td>\n",
              "      <td>1.4</td>\n",
              "      <td>2</td>\n",
              "      <td>0</td>\n",
              "      <td>2</td>\n",
              "      <td>1</td>\n",
              "    </tr>\n",
              "    <tr>\n",
              "      <th>3</th>\n",
              "      <td>56</td>\n",
              "      <td>1</td>\n",
              "      <td>1</td>\n",
              "      <td>120</td>\n",
              "      <td>236</td>\n",
              "      <td>0</td>\n",
              "      <td>1</td>\n",
              "      <td>178</td>\n",
              "      <td>0</td>\n",
              "      <td>0.8</td>\n",
              "      <td>2</td>\n",
              "      <td>0</td>\n",
              "      <td>2</td>\n",
              "      <td>1</td>\n",
              "    </tr>\n",
              "    <tr>\n",
              "      <th>4</th>\n",
              "      <td>57</td>\n",
              "      <td>0</td>\n",
              "      <td>0</td>\n",
              "      <td>120</td>\n",
              "      <td>354</td>\n",
              "      <td>0</td>\n",
              "      <td>1</td>\n",
              "      <td>163</td>\n",
              "      <td>1</td>\n",
              "      <td>0.6</td>\n",
              "      <td>2</td>\n",
              "      <td>0</td>\n",
              "      <td>2</td>\n",
              "      <td>1</td>\n",
              "    </tr>\n",
              "  </tbody>\n",
              "</table>\n",
              "</div>"
            ],
            "text/plain": [
              "   age  sex  cp  trtbps  chol  fbs  ...  exng  oldpeak  slp  caa  thall  output\n",
              "0   63    1   3     145   233    1  ...     0      2.3    0    0      1       1\n",
              "1   37    1   2     130   250    0  ...     0      3.5    0    0      2       1\n",
              "2   41    0   1     130   204    0  ...     0      1.4    2    0      2       1\n",
              "3   56    1   1     120   236    0  ...     0      0.8    2    0      2       1\n",
              "4   57    0   0     120   354    0  ...     1      0.6    2    0      2       1\n",
              "\n",
              "[5 rows x 14 columns]"
            ]
          },
          "metadata": {
            "tags": []
          },
          "execution_count": 15
        }
      ]
    },
    {
      "cell_type": "markdown",
      "metadata": {
        "papermill": {
          "duration": 0.064274,
          "end_time": "2021-04-21T21:35:09.227735",
          "exception": false,
          "start_time": "2021-04-21T21:35:09.163461",
          "status": "completed"
        },
        "tags": [],
        "id": "champion-belarus"
      },
      "source": [
        "Now, I'm going to perform baseline modelling"
      ],
      "id": "champion-belarus"
    },
    {
      "cell_type": "code",
      "metadata": {
        "execution": {
          "iopub.execute_input": "2021-04-21T21:35:09.363134Z",
          "iopub.status.busy": "2021-04-21T21:35:09.362470Z",
          "iopub.status.idle": "2021-04-21T21:35:09.365775Z",
          "shell.execute_reply": "2021-04-21T21:35:09.365254Z"
        },
        "papermill": {
          "duration": 0.073561,
          "end_time": "2021-04-21T21:35:09.365958",
          "exception": false,
          "start_time": "2021-04-21T21:35:09.292397",
          "status": "completed"
        },
        "tags": [],
        "id": "asian-syntax",
        "colab": {
          "base_uri": "https://localhost:8080/"
        },
        "outputId": "65ba426f-7f5b-4f42-d221-c17223fdffd6"
      },
      "source": [
        "x = df2.iloc[:, :-1].values\n",
        "y = df2.iloc[:, -1].values\n",
        "print(x[0:5])\n",
        "print(y[0:5])"
      ],
      "id": "asian-syntax",
      "execution_count": 16,
      "outputs": [
        {
          "output_type": "stream",
          "text": [
            "[[ 63.    1.    3.  145.  233.    1.    0.  150.    0.    2.3   0.    0.\n",
            "    1. ]\n",
            " [ 37.    1.    2.  130.  250.    0.    1.  187.    0.    3.5   0.    0.\n",
            "    2. ]\n",
            " [ 41.    0.    1.  130.  204.    0.    0.  172.    0.    1.4   2.    0.\n",
            "    2. ]\n",
            " [ 56.    1.    1.  120.  236.    0.    1.  178.    0.    0.8   2.    0.\n",
            "    2. ]\n",
            " [ 57.    0.    0.  120.  354.    0.    1.  163.    1.    0.6   2.    0.\n",
            "    2. ]]\n",
            "[1 1 1 1 1]\n"
          ],
          "name": "stdout"
        }
      ]
    },
    {
      "cell_type": "markdown",
      "metadata": {
        "papermill": {
          "duration": 0.064707,
          "end_time": "2021-04-21T21:35:09.495843",
          "exception": false,
          "start_time": "2021-04-21T21:35:09.431136",
          "status": "completed"
        },
        "tags": [],
        "id": "concrete-oasis"
      },
      "source": [
        "## Standardization"
      ],
      "id": "concrete-oasis"
    },
    {
      "cell_type": "code",
      "metadata": {
        "execution": {
          "iopub.execute_input": "2021-04-21T21:35:09.633060Z",
          "iopub.status.busy": "2021-04-21T21:35:09.632379Z",
          "iopub.status.idle": "2021-04-21T21:35:09.635693Z",
          "shell.execute_reply": "2021-04-21T21:35:09.636297Z"
        },
        "papermill": {
          "duration": 0.075693,
          "end_time": "2021-04-21T21:35:09.636554",
          "exception": false,
          "start_time": "2021-04-21T21:35:09.560861",
          "status": "completed"
        },
        "tags": [],
        "id": "existing-causing",
        "colab": {
          "base_uri": "https://localhost:8080/"
        },
        "outputId": "331c41f7-308a-4d1f-960d-8330541f159d"
      },
      "source": [
        "# Spliting the data\n",
        "from sklearn.model_selection import train_test_split\n",
        "x_train,x_test,y_train,y_test = train_test_split(x,y,test_size = 0.2,random_state = 0)\n",
        "sc = StandardScaler()\n",
        "x_train = sc.fit_transform(x_train)\n",
        "x_test = sc.transform(x_test)\n",
        "print(x_train[0:3])"
      ],
      "id": "existing-causing",
      "execution_count": 17,
      "outputs": [
        {
          "output_type": "stream",
          "text": [
            "[[-1.30504994 -1.4186261   0.98544689 -0.55988902 -0.63287305 -0.40527917\n",
            "   0.90503556  0.65868689 -0.6983225  -0.73105097 -0.61492051 -0.70674006\n",
            "  -0.49876142]\n",
            " [ 1.25925059 -1.4186261   0.98544689  0.81698091  0.59425361 -0.40527917\n",
            "  -0.97525383  0.10822916 -0.6983225  -0.89828712 -0.61492051  0.29516791\n",
            "  -0.49876142]\n",
            " [ 0.36731998  0.70490738  0.98544689  0.47276343 -0.67063079  2.46743496\n",
            "  -0.97525383  0.65868689 -0.6983225  -0.89828712  0.99590387 -0.70674006\n",
            "  -0.49876142]]\n"
          ],
          "name": "stdout"
        }
      ]
    },
    {
      "cell_type": "markdown",
      "metadata": {
        "papermill": {
          "duration": 0.064022,
          "end_time": "2021-04-21T21:35:09.766221",
          "exception": false,
          "start_time": "2021-04-21T21:35:09.702199",
          "status": "completed"
        },
        "tags": [],
        "id": "quantitative-metropolitan"
      },
      "source": [
        "## Machine Learning Models"
      ],
      "id": "quantitative-metropolitan"
    },
    {
      "cell_type": "code",
      "metadata": {
        "execution": {
          "iopub.execute_input": "2021-04-21T21:35:09.900533Z",
          "iopub.status.busy": "2021-04-21T21:35:09.899820Z",
          "iopub.status.idle": "2021-04-21T21:35:09.912865Z",
          "shell.execute_reply": "2021-04-21T21:35:09.912200Z"
        },
        "papermill": {
          "duration": 0.082518,
          "end_time": "2021-04-21T21:35:09.913006",
          "exception": false,
          "start_time": "2021-04-21T21:35:09.830488",
          "status": "completed"
        },
        "tags": [],
        "colab": {
          "base_uri": "https://localhost:8080/"
        },
        "id": "driving-tulsa",
        "outputId": "d36b029e-a685-4582-f102-869cacf8aed1"
      },
      "source": [
        "key = ['LogisticRegression','KNeighborsClassifier','SVC','DecisionTreeClassifier','RandomForestClassifier','GradientBoostingClassifier','AdaBoostClassifier','XGBClassifier']\n",
        "value = [LogisticRegression(),KNeighborsClassifier(),SVC(),DecisionTreeClassifier(),RandomForestClassifier(),GradientBoostingClassifier(),AdaBoostClassifier(),xgb.XGBClassifier()]\n",
        "models = dict(zip(key,value))\n",
        "print(models)"
      ],
      "id": "driving-tulsa",
      "execution_count": 18,
      "outputs": [
        {
          "output_type": "stream",
          "text": [
            "{'LogisticRegression': LogisticRegression(C=1.0, class_weight=None, dual=False, fit_intercept=True,\n",
            "                   intercept_scaling=1, l1_ratio=None, max_iter=100,\n",
            "                   multi_class='auto', n_jobs=None, penalty='l2',\n",
            "                   random_state=None, solver='lbfgs', tol=0.0001, verbose=0,\n",
            "                   warm_start=False), 'KNeighborsClassifier': KNeighborsClassifier(algorithm='auto', leaf_size=30, metric='minkowski',\n",
            "                     metric_params=None, n_jobs=None, n_neighbors=5, p=2,\n",
            "                     weights='uniform'), 'SVC': SVC(C=1.0, break_ties=False, cache_size=200, class_weight=None, coef0=0.0,\n",
            "    decision_function_shape='ovr', degree=3, gamma='scale', kernel='rbf',\n",
            "    max_iter=-1, probability=False, random_state=None, shrinking=True,\n",
            "    tol=0.001, verbose=False), 'DecisionTreeClassifier': DecisionTreeClassifier(ccp_alpha=0.0, class_weight=None, criterion='gini',\n",
            "                       max_depth=None, max_features=None, max_leaf_nodes=None,\n",
            "                       min_impurity_decrease=0.0, min_impurity_split=None,\n",
            "                       min_samples_leaf=1, min_samples_split=2,\n",
            "                       min_weight_fraction_leaf=0.0, presort='deprecated',\n",
            "                       random_state=None, splitter='best'), 'RandomForestClassifier': RandomForestClassifier(bootstrap=True, ccp_alpha=0.0, class_weight=None,\n",
            "                       criterion='gini', max_depth=None, max_features='auto',\n",
            "                       max_leaf_nodes=None, max_samples=None,\n",
            "                       min_impurity_decrease=0.0, min_impurity_split=None,\n",
            "                       min_samples_leaf=1, min_samples_split=2,\n",
            "                       min_weight_fraction_leaf=0.0, n_estimators=100,\n",
            "                       n_jobs=None, oob_score=False, random_state=None,\n",
            "                       verbose=0, warm_start=False), 'GradientBoostingClassifier': GradientBoostingClassifier(ccp_alpha=0.0, criterion='friedman_mse', init=None,\n",
            "                           learning_rate=0.1, loss='deviance', max_depth=3,\n",
            "                           max_features=None, max_leaf_nodes=None,\n",
            "                           min_impurity_decrease=0.0, min_impurity_split=None,\n",
            "                           min_samples_leaf=1, min_samples_split=2,\n",
            "                           min_weight_fraction_leaf=0.0, n_estimators=100,\n",
            "                           n_iter_no_change=None, presort='deprecated',\n",
            "                           random_state=None, subsample=1.0, tol=0.0001,\n",
            "                           validation_fraction=0.1, verbose=0,\n",
            "                           warm_start=False), 'AdaBoostClassifier': AdaBoostClassifier(algorithm='SAMME.R', base_estimator=None, learning_rate=1.0,\n",
            "                   n_estimators=50, random_state=None), 'XGBClassifier': XGBClassifier(base_score=0.5, booster='gbtree', colsample_bylevel=1,\n",
            "              colsample_bynode=1, colsample_bytree=1, gamma=0,\n",
            "              learning_rate=0.1, max_delta_step=0, max_depth=3,\n",
            "              min_child_weight=1, missing=None, n_estimators=100, n_jobs=1,\n",
            "              nthread=None, objective='binary:logistic', random_state=0,\n",
            "              reg_alpha=0, reg_lambda=1, scale_pos_weight=1, seed=None,\n",
            "              silent=None, subsample=1, verbosity=1)}\n"
          ],
          "name": "stdout"
        }
      ]
    },
    {
      "cell_type": "markdown",
      "metadata": {
        "id": "Nr6lUXnICzgu"
      },
      "source": [
        "###Helper Variables"
      ],
      "id": "Nr6lUXnICzgu"
    },
    {
      "cell_type": "code",
      "metadata": {
        "execution": {
          "iopub.execute_input": "2021-04-21T21:35:10.055643Z",
          "iopub.status.busy": "2021-04-21T21:35:10.054903Z",
          "iopub.status.idle": "2021-04-21T21:35:10.555183Z",
          "shell.execute_reply": "2021-04-21T21:35:10.556411Z"
        },
        "papermill": {
          "duration": 0.578564,
          "end_time": "2021-04-21T21:35:10.556725",
          "exception": false,
          "start_time": "2021-04-21T21:35:09.978161",
          "status": "completed"
        },
        "tags": [],
        "id": "present-tracy"
      },
      "source": [
        "predicted =[]\n",
        "i = 0"
      ],
      "id": "present-tracy",
      "execution_count": 19,
      "outputs": []
    },
    {
      "cell_type": "markdown",
      "metadata": {
        "id": "XqHysKGcusTm"
      },
      "source": [
        "### LogisticRegression"
      ],
      "id": "XqHysKGcusTm"
    },
    {
      "cell_type": "code",
      "metadata": {
        "colab": {
          "base_uri": "https://localhost:8080/"
        },
        "id": "YrlK6YNnjBg8",
        "outputId": "22dd3198-63d3-4280-a8a8-8c1ca26f53fa"
      },
      "source": [
        "model = LogisticRegression()\n",
        "model.fit(x_train,y_train)\n",
        "predict = model.predict(x_test)\n",
        "acc = accuracy_score(y_test,predict)\n",
        "predicted.append(acc)\n",
        "print(key[0],acc)\n"
      ],
      "id": "YrlK6YNnjBg8",
      "execution_count": 20,
      "outputs": [
        {
          "output_type": "stream",
          "text": [
            "LogisticRegression 0.8688524590163934\n"
          ],
          "name": "stdout"
        }
      ]
    },
    {
      "cell_type": "markdown",
      "metadata": {
        "id": "2S2bcqPvuxQB"
      },
      "source": [
        "### KNeighborsClassifier"
      ],
      "id": "2S2bcqPvuxQB"
    },
    {
      "cell_type": "code",
      "metadata": {
        "colab": {
          "base_uri": "https://localhost:8080/"
        },
        "id": "8SMTxfR5j2_p",
        "outputId": "c31a5b43-cb5b-488f-9d6d-8d12bb30c7b4"
      },
      "source": [
        "model = KNeighborsClassifier()\n",
        "model.fit(x_train,y_train)\n",
        "predict = model.predict(x_test)\n",
        "acc = accuracy_score(y_test,predict)\n",
        "predicted.append(acc)\n",
        "print(key[1],acc)\n"
      ],
      "id": "8SMTxfR5j2_p",
      "execution_count": 21,
      "outputs": [
        {
          "output_type": "stream",
          "text": [
            "KNeighborsClassifier 0.9180327868852459\n"
          ],
          "name": "stdout"
        }
      ]
    },
    {
      "cell_type": "markdown",
      "metadata": {
        "id": "kKQdhx9EuzqL"
      },
      "source": [
        "### SVC Support Vector Machines"
      ],
      "id": "kKQdhx9EuzqL"
    },
    {
      "cell_type": "code",
      "metadata": {
        "colab": {
          "base_uri": "https://localhost:8080/"
        },
        "id": "yWQDMJClj3JH",
        "outputId": "93de3710-c43d-484f-8dc8-8d980d85e62a"
      },
      "source": [
        "model = SVC()\n",
        "model.fit(x_train,y_train)\n",
        "predict = model.predict(x_test)\n",
        "acc = accuracy_score(y_test,predict)\n",
        "predicted.append(acc)\n",
        "print(key[2],acc)\n"
      ],
      "id": "yWQDMJClj3JH",
      "execution_count": 22,
      "outputs": [
        {
          "output_type": "stream",
          "text": [
            "SVC 0.9344262295081968\n"
          ],
          "name": "stdout"
        }
      ]
    },
    {
      "cell_type": "markdown",
      "metadata": {
        "id": "Ts2Bch27u360"
      },
      "source": [
        "###DecisionTreeClassifier"
      ],
      "id": "Ts2Bch27u360"
    },
    {
      "cell_type": "code",
      "metadata": {
        "colab": {
          "base_uri": "https://localhost:8080/"
        },
        "id": "DRSxNSOXj3RX",
        "outputId": "d7e17beb-da8f-4621-d2b4-fefa983faf19"
      },
      "source": [
        "model = DecisionTreeClassifier()\n",
        "model.fit(x_train,y_train)\n",
        "predict = model.predict(x_test)\n",
        "acc = accuracy_score(y_test,predict)\n",
        "predicted.append(acc)\n",
        "print(key[3],acc)\n"
      ],
      "id": "DRSxNSOXj3RX",
      "execution_count": 23,
      "outputs": [
        {
          "output_type": "stream",
          "text": [
            "DecisionTreeClassifier 0.7704918032786885\n"
          ],
          "name": "stdout"
        }
      ]
    },
    {
      "cell_type": "markdown",
      "metadata": {
        "id": "HQisukEQu6qH"
      },
      "source": [
        "###RandomForestClassifier"
      ],
      "id": "HQisukEQu6qH"
    },
    {
      "cell_type": "code",
      "metadata": {
        "colab": {
          "base_uri": "https://localhost:8080/"
        },
        "id": "UCIUCEEBj4yI",
        "outputId": "14af3064-b512-46f9-b6d3-aa68b4b63005"
      },
      "source": [
        "model = RandomForestClassifier(verbose=100)\n",
        "model.fit(x_train,y_train)\n",
        "predict = model.predict(x_test)\n",
        "acc = accuracy_score(y_test,predict)\n",
        "predicted.append(acc)\n",
        "print(key[4],acc)\n"
      ],
      "id": "UCIUCEEBj4yI",
      "execution_count": 24,
      "outputs": [
        {
          "output_type": "stream",
          "text": [
            "[Parallel(n_jobs=1)]: Using backend SequentialBackend with 1 concurrent workers.\n",
            "building tree 1 of 100\n",
            "[Parallel(n_jobs=1)]: Done   1 out of   1 | elapsed:    0.0s remaining:    0.0s\n",
            "building tree 2 of 100\n",
            "[Parallel(n_jobs=1)]: Done   2 out of   2 | elapsed:    0.0s remaining:    0.0s\n",
            "building tree 3 of 100\n",
            "[Parallel(n_jobs=1)]: Done   3 out of   3 | elapsed:    0.0s remaining:    0.0s\n",
            "building tree 4 of 100\n",
            "[Parallel(n_jobs=1)]: Done   4 out of   4 | elapsed:    0.0s remaining:    0.0s\n",
            "building tree 5 of 100\n",
            "[Parallel(n_jobs=1)]: Done   5 out of   5 | elapsed:    0.0s remaining:    0.0s\n",
            "building tree 6 of 100\n",
            "[Parallel(n_jobs=1)]: Done   6 out of   6 | elapsed:    0.0s remaining:    0.0s\n",
            "building tree 7 of 100\n",
            "[Parallel(n_jobs=1)]: Done   7 out of   7 | elapsed:    0.0s remaining:    0.0s\n",
            "building tree 8 of 100\n",
            "[Parallel(n_jobs=1)]: Done   8 out of   8 | elapsed:    0.0s remaining:    0.0s\n",
            "building tree 9 of 100\n",
            "[Parallel(n_jobs=1)]: Done   9 out of   9 | elapsed:    0.0s remaining:    0.0s\n",
            "building tree 10 of 100\n",
            "[Parallel(n_jobs=1)]: Done  10 out of  10 | elapsed:    0.0s remaining:    0.0s\n",
            "building tree 11 of 100\n",
            "[Parallel(n_jobs=1)]: Done  11 out of  11 | elapsed:    0.0s remaining:    0.0s\n",
            "building tree 12 of 100\n",
            "[Parallel(n_jobs=1)]: Done  12 out of  12 | elapsed:    0.0s remaining:    0.0s\n",
            "building tree 13 of 100\n",
            "[Parallel(n_jobs=1)]: Done  13 out of  13 | elapsed:    0.0s remaining:    0.0s\n",
            "building tree 14 of 100\n",
            "[Parallel(n_jobs=1)]: Done  14 out of  14 | elapsed:    0.0s remaining:    0.0s\n",
            "building tree 15 of 100\n",
            "[Parallel(n_jobs=1)]: Done  15 out of  15 | elapsed:    0.0s remaining:    0.0s\n",
            "building tree 16 of 100\n",
            "[Parallel(n_jobs=1)]: Done  16 out of  16 | elapsed:    0.0s remaining:    0.0s\n",
            "building tree 17 of 100\n",
            "[Parallel(n_jobs=1)]: Done  17 out of  17 | elapsed:    0.0s remaining:    0.0s\n",
            "building tree 18 of 100\n",
            "[Parallel(n_jobs=1)]: Done  18 out of  18 | elapsed:    0.0s remaining:    0.0s\n",
            "building tree 19 of 100\n",
            "[Parallel(n_jobs=1)]: Done  19 out of  19 | elapsed:    0.0s remaining:    0.0s\n",
            "building tree 20 of 100\n",
            "[Parallel(n_jobs=1)]: Done  20 out of  20 | elapsed:    0.0s remaining:    0.0s\n",
            "building tree 21 of 100\n",
            "[Parallel(n_jobs=1)]: Done  21 out of  21 | elapsed:    0.0s remaining:    0.0s\n",
            "building tree 22 of 100\n",
            "[Parallel(n_jobs=1)]: Done  22 out of  22 | elapsed:    0.0s remaining:    0.0s\n",
            "building tree 23 of 100\n",
            "[Parallel(n_jobs=1)]: Done  23 out of  23 | elapsed:    0.0s remaining:    0.0s\n",
            "building tree 24 of 100\n",
            "[Parallel(n_jobs=1)]: Done  24 out of  24 | elapsed:    0.0s remaining:    0.0s\n",
            "building tree 25 of 100\n",
            "[Parallel(n_jobs=1)]: Done  25 out of  25 | elapsed:    0.1s remaining:    0.0s\n",
            "building tree 26 of 100\n",
            "[Parallel(n_jobs=1)]: Done  26 out of  26 | elapsed:    0.1s remaining:    0.0s\n",
            "building tree 27 of 100\n",
            "[Parallel(n_jobs=1)]: Done  27 out of  27 | elapsed:    0.1s remaining:    0.0s\n",
            "building tree 28 of 100\n",
            "[Parallel(n_jobs=1)]: Done  28 out of  28 | elapsed:    0.1s remaining:    0.0s\n",
            "building tree 29 of 100\n",
            "[Parallel(n_jobs=1)]: Done  29 out of  29 | elapsed:    0.1s remaining:    0.0s\n",
            "building tree 30 of 100\n",
            "[Parallel(n_jobs=1)]: Done  30 out of  30 | elapsed:    0.1s remaining:    0.0s\n",
            "building tree 31 of 100\n",
            "[Parallel(n_jobs=1)]: Done  31 out of  31 | elapsed:    0.1s remaining:    0.0s\n",
            "building tree 32 of 100\n",
            "[Parallel(n_jobs=1)]: Done  32 out of  32 | elapsed:    0.1s remaining:    0.0s\n",
            "building tree 33 of 100\n",
            "[Parallel(n_jobs=1)]: Done  33 out of  33 | elapsed:    0.1s remaining:    0.0s\n",
            "building tree 34 of 100\n",
            "[Parallel(n_jobs=1)]: Done  34 out of  34 | elapsed:    0.1s remaining:    0.0s\n",
            "building tree 35 of 100\n",
            "[Parallel(n_jobs=1)]: Done  35 out of  35 | elapsed:    0.1s remaining:    0.0s\n",
            "building tree 36 of 100\n",
            "[Parallel(n_jobs=1)]: Done  36 out of  36 | elapsed:    0.1s remaining:    0.0s\n",
            "building tree 37 of 100\n",
            "[Parallel(n_jobs=1)]: Done  37 out of  37 | elapsed:    0.1s remaining:    0.0s\n",
            "building tree 38 of 100\n",
            "[Parallel(n_jobs=1)]: Done  38 out of  38 | elapsed:    0.1s remaining:    0.0s\n",
            "building tree 39 of 100\n",
            "[Parallel(n_jobs=1)]: Done  39 out of  39 | elapsed:    0.1s remaining:    0.0s\n",
            "building tree 40 of 100\n",
            "[Parallel(n_jobs=1)]: Done  40 out of  40 | elapsed:    0.1s remaining:    0.0s\n",
            "building tree 41 of 100\n",
            "[Parallel(n_jobs=1)]: Done  41 out of  41 | elapsed:    0.1s remaining:    0.0s\n",
            "building tree 42 of 100\n",
            "[Parallel(n_jobs=1)]: Done  42 out of  42 | elapsed:    0.1s remaining:    0.0s\n",
            "building tree 43 of 100\n",
            "[Parallel(n_jobs=1)]: Done  43 out of  43 | elapsed:    0.1s remaining:    0.0s\n",
            "building tree 44 of 100\n",
            "[Parallel(n_jobs=1)]: Done  44 out of  44 | elapsed:    0.1s remaining:    0.0s\n",
            "building tree 45 of 100\n",
            "[Parallel(n_jobs=1)]: Done  45 out of  45 | elapsed:    0.1s remaining:    0.0s\n",
            "building tree 46 of 100\n",
            "[Parallel(n_jobs=1)]: Done  46 out of  46 | elapsed:    0.1s remaining:    0.0s\n",
            "building tree 47 of 100\n",
            "[Parallel(n_jobs=1)]: Done  47 out of  47 | elapsed:    0.1s remaining:    0.0s\n",
            "building tree 48 of 100\n",
            "[Parallel(n_jobs=1)]: Done  48 out of  48 | elapsed:    0.1s remaining:    0.0s\n",
            "building tree 49 of 100\n",
            "[Parallel(n_jobs=1)]: Done  49 out of  49 | elapsed:    0.1s remaining:    0.0s\n",
            "building tree 50 of 100\n",
            "[Parallel(n_jobs=1)]: Done  50 out of  50 | elapsed:    0.1s remaining:    0.0s\n",
            "building tree 51 of 100\n",
            "[Parallel(n_jobs=1)]: Done  51 out of  51 | elapsed:    0.1s remaining:    0.0s\n",
            "building tree 52 of 100\n",
            "[Parallel(n_jobs=1)]: Done  52 out of  52 | elapsed:    0.1s remaining:    0.0s\n",
            "building tree 53 of 100\n",
            "[Parallel(n_jobs=1)]: Done  53 out of  53 | elapsed:    0.1s remaining:    0.0s\n",
            "building tree 54 of 100\n",
            "[Parallel(n_jobs=1)]: Done  54 out of  54 | elapsed:    0.1s remaining:    0.0s\n",
            "building tree 55 of 100\n",
            "[Parallel(n_jobs=1)]: Done  55 out of  55 | elapsed:    0.1s remaining:    0.0s\n",
            "building tree 56 of 100\n",
            "[Parallel(n_jobs=1)]: Done  56 out of  56 | elapsed:    0.1s remaining:    0.0s\n",
            "building tree 57 of 100\n",
            "[Parallel(n_jobs=1)]: Done  57 out of  57 | elapsed:    0.1s remaining:    0.0s\n",
            "building tree 58 of 100\n",
            "[Parallel(n_jobs=1)]: Done  58 out of  58 | elapsed:    0.1s remaining:    0.0s\n",
            "building tree 59 of 100\n",
            "[Parallel(n_jobs=1)]: Done  59 out of  59 | elapsed:    0.1s remaining:    0.0s\n",
            "building tree 60 of 100\n",
            "[Parallel(n_jobs=1)]: Done  60 out of  60 | elapsed:    0.1s remaining:    0.0s\n",
            "building tree 61 of 100\n",
            "[Parallel(n_jobs=1)]: Done  61 out of  61 | elapsed:    0.1s remaining:    0.0s\n",
            "building tree 62 of 100\n",
            "[Parallel(n_jobs=1)]: Done  62 out of  62 | elapsed:    0.1s remaining:    0.0s\n",
            "building tree 63 of 100\n",
            "[Parallel(n_jobs=1)]: Done  63 out of  63 | elapsed:    0.1s remaining:    0.0s\n",
            "building tree 64 of 100\n",
            "[Parallel(n_jobs=1)]: Done  64 out of  64 | elapsed:    0.1s remaining:    0.0s\n",
            "building tree 65 of 100\n",
            "[Parallel(n_jobs=1)]: Done  65 out of  65 | elapsed:    0.1s remaining:    0.0s\n",
            "building tree 66 of 100\n",
            "[Parallel(n_jobs=1)]: Done  66 out of  66 | elapsed:    0.1s remaining:    0.0s\n",
            "building tree 67 of 100\n",
            "[Parallel(n_jobs=1)]: Done  67 out of  67 | elapsed:    0.1s remaining:    0.0s\n",
            "building tree 68 of 100\n",
            "[Parallel(n_jobs=1)]: Done  68 out of  68 | elapsed:    0.1s remaining:    0.0s\n",
            "building tree 69 of 100\n",
            "[Parallel(n_jobs=1)]: Done  69 out of  69 | elapsed:    0.1s remaining:    0.0s\n",
            "building tree 70 of 100\n",
            "[Parallel(n_jobs=1)]: Done  70 out of  70 | elapsed:    0.1s remaining:    0.0s\n",
            "building tree 71 of 100\n",
            "[Parallel(n_jobs=1)]: Done  71 out of  71 | elapsed:    0.1s remaining:    0.0s\n",
            "building tree 72 of 100\n",
            "[Parallel(n_jobs=1)]: Done  72 out of  72 | elapsed:    0.1s remaining:    0.0s\n",
            "building tree 73 of 100\n",
            "[Parallel(n_jobs=1)]: Done  73 out of  73 | elapsed:    0.1s remaining:    0.0s\n",
            "building tree 74 of 100\n",
            "[Parallel(n_jobs=1)]: Done  74 out of  74 | elapsed:    0.1s remaining:    0.0s\n",
            "building tree 75 of 100\n",
            "[Parallel(n_jobs=1)]: Done  75 out of  75 | elapsed:    0.2s remaining:    0.0s\n",
            "building tree 76 of 100\n",
            "[Parallel(n_jobs=1)]: Done  76 out of  76 | elapsed:    0.2s remaining:    0.0s\n",
            "building tree 77 of 100\n",
            "[Parallel(n_jobs=1)]: Done  77 out of  77 | elapsed:    0.2s remaining:    0.0s\n",
            "building tree 78 of 100\n",
            "[Parallel(n_jobs=1)]: Done  78 out of  78 | elapsed:    0.2s remaining:    0.0s\n",
            "building tree 79 of 100\n",
            "[Parallel(n_jobs=1)]: Done  79 out of  79 | elapsed:    0.2s remaining:    0.0s\n",
            "building tree 80 of 100\n",
            "[Parallel(n_jobs=1)]: Done  80 out of  80 | elapsed:    0.2s remaining:    0.0s\n",
            "building tree 81 of 100\n",
            "[Parallel(n_jobs=1)]: Done  81 out of  81 | elapsed:    0.2s remaining:    0.0s\n",
            "building tree 82 of 100\n",
            "[Parallel(n_jobs=1)]: Done  82 out of  82 | elapsed:    0.2s remaining:    0.0s\n",
            "building tree 83 of 100\n",
            "[Parallel(n_jobs=1)]: Done  83 out of  83 | elapsed:    0.2s remaining:    0.0s\n",
            "building tree 84 of 100\n",
            "[Parallel(n_jobs=1)]: Done  84 out of  84 | elapsed:    0.2s remaining:    0.0s\n",
            "building tree 85 of 100\n",
            "[Parallel(n_jobs=1)]: Done  85 out of  85 | elapsed:    0.2s remaining:    0.0s\n",
            "building tree 86 of 100\n",
            "[Parallel(n_jobs=1)]: Done  86 out of  86 | elapsed:    0.2s remaining:    0.0s\n",
            "building tree 87 of 100\n",
            "[Parallel(n_jobs=1)]: Done  87 out of  87 | elapsed:    0.2s remaining:    0.0s\n",
            "building tree 88 of 100\n",
            "[Parallel(n_jobs=1)]: Done  88 out of  88 | elapsed:    0.2s remaining:    0.0s\n",
            "building tree 89 of 100\n",
            "[Parallel(n_jobs=1)]: Done  89 out of  89 | elapsed:    0.2s remaining:    0.0s\n",
            "building tree 90 of 100\n",
            "[Parallel(n_jobs=1)]: Done  90 out of  90 | elapsed:    0.2s remaining:    0.0s\n",
            "building tree 91 of 100\n",
            "[Parallel(n_jobs=1)]: Done  91 out of  91 | elapsed:    0.2s remaining:    0.0s\n",
            "building tree 92 of 100\n",
            "[Parallel(n_jobs=1)]: Done  92 out of  92 | elapsed:    0.2s remaining:    0.0s\n",
            "building tree 93 of 100\n",
            "[Parallel(n_jobs=1)]: Done  93 out of  93 | elapsed:    0.2s remaining:    0.0s\n",
            "building tree 94 of 100\n",
            "[Parallel(n_jobs=1)]: Done  94 out of  94 | elapsed:    0.2s remaining:    0.0s\n",
            "building tree 95 of 100\n",
            "[Parallel(n_jobs=1)]: Done  95 out of  95 | elapsed:    0.2s remaining:    0.0s\n",
            "building tree 96 of 100\n",
            "[Parallel(n_jobs=1)]: Done  96 out of  96 | elapsed:    0.2s remaining:    0.0s\n",
            "building tree 97 of 100\n",
            "[Parallel(n_jobs=1)]: Done  97 out of  97 | elapsed:    0.2s remaining:    0.0s\n",
            "building tree 98 of 100\n",
            "[Parallel(n_jobs=1)]: Done  98 out of  98 | elapsed:    0.2s remaining:    0.0s\n",
            "building tree 99 of 100\n",
            "[Parallel(n_jobs=1)]: Done  99 out of  99 | elapsed:    0.2s remaining:    0.0s\n",
            "building tree 100 of 100\n",
            "[Parallel(n_jobs=1)]: Done 100 out of 100 | elapsed:    0.2s finished\n",
            "[Parallel(n_jobs=1)]: Using backend SequentialBackend with 1 concurrent workers.\n",
            "[Parallel(n_jobs=1)]: Done   1 out of   1 | elapsed:    0.0s remaining:    0.0s\n",
            "[Parallel(n_jobs=1)]: Done   2 out of   2 | elapsed:    0.0s remaining:    0.0s\n",
            "[Parallel(n_jobs=1)]: Done   3 out of   3 | elapsed:    0.0s remaining:    0.0s\n",
            "[Parallel(n_jobs=1)]: Done   4 out of   4 | elapsed:    0.0s remaining:    0.0s\n",
            "[Parallel(n_jobs=1)]: Done   5 out of   5 | elapsed:    0.0s remaining:    0.0s\n",
            "[Parallel(n_jobs=1)]: Done   6 out of   6 | elapsed:    0.0s remaining:    0.0s\n",
            "[Parallel(n_jobs=1)]: Done   7 out of   7 | elapsed:    0.0s remaining:    0.0s\n",
            "[Parallel(n_jobs=1)]: Done   8 out of   8 | elapsed:    0.0s remaining:    0.0s\n",
            "[Parallel(n_jobs=1)]: Done   9 out of   9 | elapsed:    0.0s remaining:    0.0s\n",
            "[Parallel(n_jobs=1)]: Done  10 out of  10 | elapsed:    0.0s remaining:    0.0s\n",
            "[Parallel(n_jobs=1)]: Done  11 out of  11 | elapsed:    0.0s remaining:    0.0s\n",
            "[Parallel(n_jobs=1)]: Done  12 out of  12 | elapsed:    0.0s remaining:    0.0s\n",
            "[Parallel(n_jobs=1)]: Done  13 out of  13 | elapsed:    0.0s remaining:    0.0s\n",
            "[Parallel(n_jobs=1)]: Done  14 out of  14 | elapsed:    0.0s remaining:    0.0s\n",
            "[Parallel(n_jobs=1)]: Done  15 out of  15 | elapsed:    0.0s remaining:    0.0s\n",
            "[Parallel(n_jobs=1)]: Done  16 out of  16 | elapsed:    0.0s remaining:    0.0s\n",
            "[Parallel(n_jobs=1)]: Done  17 out of  17 | elapsed:    0.0s remaining:    0.0s\n",
            "[Parallel(n_jobs=1)]: Done  18 out of  18 | elapsed:    0.0s remaining:    0.0s\n",
            "[Parallel(n_jobs=1)]: Done  19 out of  19 | elapsed:    0.0s remaining:    0.0s\n",
            "[Parallel(n_jobs=1)]: Done  20 out of  20 | elapsed:    0.0s remaining:    0.0s\n",
            "[Parallel(n_jobs=1)]: Done  21 out of  21 | elapsed:    0.0s remaining:    0.0s\n",
            "[Parallel(n_jobs=1)]: Done  22 out of  22 | elapsed:    0.0s remaining:    0.0s\n",
            "[Parallel(n_jobs=1)]: Done  23 out of  23 | elapsed:    0.0s remaining:    0.0s\n",
            "[Parallel(n_jobs=1)]: Done  24 out of  24 | elapsed:    0.0s remaining:    0.0s\n",
            "[Parallel(n_jobs=1)]: Done  25 out of  25 | elapsed:    0.0s remaining:    0.0s\n",
            "[Parallel(n_jobs=1)]: Done  26 out of  26 | elapsed:    0.0s remaining:    0.0s\n",
            "[Parallel(n_jobs=1)]: Done  27 out of  27 | elapsed:    0.0s remaining:    0.0s\n",
            "[Parallel(n_jobs=1)]: Done  28 out of  28 | elapsed:    0.0s remaining:    0.0s\n",
            "[Parallel(n_jobs=1)]: Done  29 out of  29 | elapsed:    0.0s remaining:    0.0s\n",
            "[Parallel(n_jobs=1)]: Done  30 out of  30 | elapsed:    0.0s remaining:    0.0s\n",
            "[Parallel(n_jobs=1)]: Done  31 out of  31 | elapsed:    0.0s remaining:    0.0s\n",
            "[Parallel(n_jobs=1)]: Done  32 out of  32 | elapsed:    0.0s remaining:    0.0s\n",
            "[Parallel(n_jobs=1)]: Done  33 out of  33 | elapsed:    0.0s remaining:    0.0s\n",
            "[Parallel(n_jobs=1)]: Done  34 out of  34 | elapsed:    0.0s remaining:    0.0s\n",
            "[Parallel(n_jobs=1)]: Done  35 out of  35 | elapsed:    0.0s remaining:    0.0s\n",
            "[Parallel(n_jobs=1)]: Done  36 out of  36 | elapsed:    0.0s remaining:    0.0s\n",
            "[Parallel(n_jobs=1)]: Done  37 out of  37 | elapsed:    0.0s remaining:    0.0s\n",
            "[Parallel(n_jobs=1)]: Done  38 out of  38 | elapsed:    0.0s remaining:    0.0s\n",
            "[Parallel(n_jobs=1)]: Done  39 out of  39 | elapsed:    0.0s remaining:    0.0s\n",
            "[Parallel(n_jobs=1)]: Done  40 out of  40 | elapsed:    0.0s remaining:    0.0s\n",
            "[Parallel(n_jobs=1)]: Done  41 out of  41 | elapsed:    0.0s remaining:    0.0s\n",
            "[Parallel(n_jobs=1)]: Done  42 out of  42 | elapsed:    0.0s remaining:    0.0s\n",
            "[Parallel(n_jobs=1)]: Done  43 out of  43 | elapsed:    0.0s remaining:    0.0s\n",
            "[Parallel(n_jobs=1)]: Done  44 out of  44 | elapsed:    0.0s remaining:    0.0s\n",
            "[Parallel(n_jobs=1)]: Done  45 out of  45 | elapsed:    0.0s remaining:    0.0s\n",
            "[Parallel(n_jobs=1)]: Done  46 out of  46 | elapsed:    0.0s remaining:    0.0s\n",
            "[Parallel(n_jobs=1)]: Done  47 out of  47 | elapsed:    0.0s remaining:    0.0s\n",
            "[Parallel(n_jobs=1)]: Done  48 out of  48 | elapsed:    0.0s remaining:    0.0s\n",
            "[Parallel(n_jobs=1)]: Done  49 out of  49 | elapsed:    0.0s remaining:    0.0s\n",
            "[Parallel(n_jobs=1)]: Done  50 out of  50 | elapsed:    0.0s remaining:    0.0s\n",
            "[Parallel(n_jobs=1)]: Done  51 out of  51 | elapsed:    0.0s remaining:    0.0s\n",
            "[Parallel(n_jobs=1)]: Done  52 out of  52 | elapsed:    0.0s remaining:    0.0s\n",
            "[Parallel(n_jobs=1)]: Done  53 out of  53 | elapsed:    0.0s remaining:    0.0s\n",
            "[Parallel(n_jobs=1)]: Done  54 out of  54 | elapsed:    0.0s remaining:    0.0s\n",
            "[Parallel(n_jobs=1)]: Done  55 out of  55 | elapsed:    0.0s remaining:    0.0s\n",
            "[Parallel(n_jobs=1)]: Done  56 out of  56 | elapsed:    0.0s remaining:    0.0s\n",
            "[Parallel(n_jobs=1)]: Done  57 out of  57 | elapsed:    0.0s remaining:    0.0s\n",
            "[Parallel(n_jobs=1)]: Done  58 out of  58 | elapsed:    0.0s remaining:    0.0s\n",
            "[Parallel(n_jobs=1)]: Done  59 out of  59 | elapsed:    0.0s remaining:    0.0s\n",
            "[Parallel(n_jobs=1)]: Done  60 out of  60 | elapsed:    0.0s remaining:    0.0s\n",
            "[Parallel(n_jobs=1)]: Done  61 out of  61 | elapsed:    0.0s remaining:    0.0s\n",
            "[Parallel(n_jobs=1)]: Done  62 out of  62 | elapsed:    0.0s remaining:    0.0s\n",
            "[Parallel(n_jobs=1)]: Done  63 out of  63 | elapsed:    0.0s remaining:    0.0s\n",
            "[Parallel(n_jobs=1)]: Done  64 out of  64 | elapsed:    0.0s remaining:    0.0s\n",
            "[Parallel(n_jobs=1)]: Done  65 out of  65 | elapsed:    0.0s remaining:    0.0s\n",
            "[Parallel(n_jobs=1)]: Done  66 out of  66 | elapsed:    0.0s remaining:    0.0s\n",
            "[Parallel(n_jobs=1)]: Done  67 out of  67 | elapsed:    0.0s remaining:    0.0s\n",
            "[Parallel(n_jobs=1)]: Done  68 out of  68 | elapsed:    0.0s remaining:    0.0s\n",
            "[Parallel(n_jobs=1)]: Done  69 out of  69 | elapsed:    0.0s remaining:    0.0s\n",
            "[Parallel(n_jobs=1)]: Done  70 out of  70 | elapsed:    0.0s remaining:    0.0s\n",
            "[Parallel(n_jobs=1)]: Done  71 out of  71 | elapsed:    0.0s remaining:    0.0s\n",
            "[Parallel(n_jobs=1)]: Done  72 out of  72 | elapsed:    0.0s remaining:    0.0s\n",
            "[Parallel(n_jobs=1)]: Done  73 out of  73 | elapsed:    0.0s remaining:    0.0s\n",
            "[Parallel(n_jobs=1)]: Done  74 out of  74 | elapsed:    0.0s remaining:    0.0s\n",
            "[Parallel(n_jobs=1)]: Done  75 out of  75 | elapsed:    0.0s remaining:    0.0s\n",
            "[Parallel(n_jobs=1)]: Done  76 out of  76 | elapsed:    0.0s remaining:    0.0s\n",
            "[Parallel(n_jobs=1)]: Done  77 out of  77 | elapsed:    0.0s remaining:    0.0s\n",
            "[Parallel(n_jobs=1)]: Done  78 out of  78 | elapsed:    0.0s remaining:    0.0s\n",
            "[Parallel(n_jobs=1)]: Done  79 out of  79 | elapsed:    0.0s remaining:    0.0s\n",
            "[Parallel(n_jobs=1)]: Done  80 out of  80 | elapsed:    0.0s remaining:    0.0s\n",
            "[Parallel(n_jobs=1)]: Done  81 out of  81 | elapsed:    0.0s remaining:    0.0s\n",
            "[Parallel(n_jobs=1)]: Done  82 out of  82 | elapsed:    0.0s remaining:    0.0s\n",
            "[Parallel(n_jobs=1)]: Done  83 out of  83 | elapsed:    0.0s remaining:    0.0s\n",
            "[Parallel(n_jobs=1)]: Done  84 out of  84 | elapsed:    0.0s remaining:    0.0s\n",
            "[Parallel(n_jobs=1)]: Done  85 out of  85 | elapsed:    0.0s remaining:    0.0s\n",
            "[Parallel(n_jobs=1)]: Done  86 out of  86 | elapsed:    0.0s remaining:    0.0s\n",
            "[Parallel(n_jobs=1)]: Done  87 out of  87 | elapsed:    0.0s remaining:    0.0s\n",
            "[Parallel(n_jobs=1)]: Done  88 out of  88 | elapsed:    0.0s remaining:    0.0s\n",
            "[Parallel(n_jobs=1)]: Done  89 out of  89 | elapsed:    0.0s remaining:    0.0s\n",
            "[Parallel(n_jobs=1)]: Done  90 out of  90 | elapsed:    0.0s remaining:    0.0s\n",
            "[Parallel(n_jobs=1)]: Done  91 out of  91 | elapsed:    0.0s remaining:    0.0s\n",
            "[Parallel(n_jobs=1)]: Done  92 out of  92 | elapsed:    0.0s remaining:    0.0s\n",
            "[Parallel(n_jobs=1)]: Done  93 out of  93 | elapsed:    0.0s remaining:    0.0s\n",
            "[Parallel(n_jobs=1)]: Done  94 out of  94 | elapsed:    0.0s remaining:    0.0s\n",
            "[Parallel(n_jobs=1)]: Done  95 out of  95 | elapsed:    0.0s remaining:    0.0s\n",
            "[Parallel(n_jobs=1)]: Done  96 out of  96 | elapsed:    0.0s remaining:    0.0s\n",
            "[Parallel(n_jobs=1)]: Done  97 out of  97 | elapsed:    0.0s remaining:    0.0s\n",
            "[Parallel(n_jobs=1)]: Done  98 out of  98 | elapsed:    0.0s remaining:    0.0s\n",
            "[Parallel(n_jobs=1)]: Done  99 out of  99 | elapsed:    0.0s remaining:    0.0s\n",
            "[Parallel(n_jobs=1)]: Done 100 out of 100 | elapsed:    0.0s finished\n",
            "RandomForestClassifier 0.8688524590163934\n"
          ],
          "name": "stdout"
        }
      ]
    },
    {
      "cell_type": "markdown",
      "metadata": {
        "id": "LkwxwG5Xu82-"
      },
      "source": [
        "###GradientBoostingClassifier\n"
      ],
      "id": "LkwxwG5Xu82-"
    },
    {
      "cell_type": "code",
      "metadata": {
        "colab": {
          "base_uri": "https://localhost:8080/"
        },
        "id": "LaHJEgZTj47H",
        "outputId": "2a104613-5912-49a8-875b-d1f9b342cb03"
      },
      "source": [
        "model = LogisticRegression()\n",
        "model.fit(x_train,y_train)\n",
        "predict = model.predict(x_test)\n",
        "acc = accuracy_score(y_test,predict)\n",
        "predicted.append(acc)\n",
        "print(key[5],acc)\n"
      ],
      "id": "LaHJEgZTj47H",
      "execution_count": 25,
      "outputs": [
        {
          "output_type": "stream",
          "text": [
            "GradientBoostingClassifier 0.8688524590163934\n"
          ],
          "name": "stdout"
        }
      ]
    },
    {
      "cell_type": "markdown",
      "metadata": {
        "id": "GJN3HnXzvAPl"
      },
      "source": [
        "### AdaBoostClassifier"
      ],
      "id": "GJN3HnXzvAPl"
    },
    {
      "cell_type": "code",
      "metadata": {
        "colab": {
          "base_uri": "https://localhost:8080/"
        },
        "id": "DKyar2ymj4_D",
        "outputId": "74eb61d6-b0d8-4913-ce27-fdb23f132167"
      },
      "source": [
        "model = AdaBoostClassifier()\n",
        "model.fit(x_train,y_train)\n",
        "predict = model.predict(x_test)\n",
        "acc = accuracy_score(y_test,predict)\n",
        "predicted.append(acc)\n",
        "print(key[6],acc)\n"
      ],
      "id": "DKyar2ymj4_D",
      "execution_count": 26,
      "outputs": [
        {
          "output_type": "stream",
          "text": [
            "AdaBoostClassifier 0.9180327868852459\n"
          ],
          "name": "stdout"
        }
      ]
    },
    {
      "cell_type": "markdown",
      "metadata": {
        "id": "Q-FzfuKivCuK"
      },
      "source": [
        "###XGBClassifier"
      ],
      "id": "Q-FzfuKivCuK"
    },
    {
      "cell_type": "code",
      "metadata": {
        "colab": {
          "base_uri": "https://localhost:8080/"
        },
        "id": "BAA9dr8Tj5DP",
        "outputId": "26f618f5-c05e-4e85-d719-d9bcd4a7d826"
      },
      "source": [
        "model = xgb.XGBClassifier()\n",
        "model.fit(x_train,y_train)\n",
        "predict = model.predict(x_test)\n",
        "acc = accuracy_score(y_test,predict)\n",
        "predicted.append(acc)\n",
        "print(key[7],acc)"
      ],
      "id": "BAA9dr8Tj5DP",
      "execution_count": 27,
      "outputs": [
        {
          "output_type": "stream",
          "text": [
            "XGBClassifier 0.8360655737704918\n"
          ],
          "name": "stdout"
        }
      ]
    },
    {
      "cell_type": "code",
      "metadata": {
        "id": "DdwQ27UUFMmJ"
      },
      "source": [
        "\n",
        "import pandas\n",
        "from keras.models import Sequential\n",
        "from keras.layers import Dense\n",
        "from keras.wrappers.scikit_learn import KerasRegressor\n",
        "from sklearn.model_selection import cross_val_score\n",
        "from sklearn.model_selection import KFold\n",
        "from sklearn.preprocessing import StandardScaler\n",
        "from sklearn.pipeline import Pipeline"
      ],
      "id": "DdwQ27UUFMmJ",
      "execution_count": 28,
      "outputs": []
    },
    {
      "cell_type": "code",
      "metadata": {
        "colab": {
          "base_uri": "https://localhost:8080/"
        },
        "id": "nf0ZIfd9FTsz",
        "outputId": "c3f67fdd-108d-4317-f540-ad038a6e0a1b"
      },
      "source": [
        "model = Sequential()\n",
        "model.add(Dense(13,input_dim=13,activation=\"relu\",kernel_regularizer=\"l2\"))\n",
        "model.add(Dense(8,activation=\"relu\",kernel_regularizer=\"l2\"))\n",
        "model.add(Dense(4,activation=\"relu\",kernel_regularizer=\"l2\"))\n",
        "model.add(Dense(1,activation=\"sigmoid\"))\n",
        "model.compile(loss=\"binary_crossentropy\",optimizer=\"adam\",metrics=\"accuracy\")\n",
        "model.summary()"
      ],
      "id": "nf0ZIfd9FTsz",
      "execution_count": 29,
      "outputs": [
        {
          "output_type": "stream",
          "text": [
            "Model: \"sequential\"\n",
            "_________________________________________________________________\n",
            "Layer (type)                 Output Shape              Param #   \n",
            "=================================================================\n",
            "dense (Dense)                (None, 13)                182       \n",
            "_________________________________________________________________\n",
            "dense_1 (Dense)              (None, 8)                 112       \n",
            "_________________________________________________________________\n",
            "dense_2 (Dense)              (None, 4)                 36        \n",
            "_________________________________________________________________\n",
            "dense_3 (Dense)              (None, 1)                 5         \n",
            "=================================================================\n",
            "Total params: 335\n",
            "Trainable params: 335\n",
            "Non-trainable params: 0\n",
            "_________________________________________________________________\n"
          ],
          "name": "stdout"
        }
      ]
    },
    {
      "cell_type": "code",
      "metadata": {
        "colab": {
          "base_uri": "https://localhost:8080/"
        },
        "id": "w7d1s528GSYG",
        "outputId": "992b2ca7-f0f5-40e0-a083-4d8262d6de31"
      },
      "source": [
        "model.fit(x_train,y_train,epochs=100,verbose=0)"
      ],
      "id": "w7d1s528GSYG",
      "execution_count": 30,
      "outputs": [
        {
          "output_type": "execute_result",
          "data": {
            "text/plain": [
              "<tensorflow.python.keras.callbacks.History at 0x7f6b297c4410>"
            ]
          },
          "metadata": {
            "tags": []
          },
          "execution_count": 30
        }
      ]
    },
    {
      "cell_type": "code",
      "metadata": {
        "colab": {
          "base_uri": "https://localhost:8080/"
        },
        "id": "ecsol47CGhl2",
        "outputId": "0d92c744-1cfd-4de7-bee9-cf4365c85aad"
      },
      "source": [
        "eval = model.evaluate(x_test,y_test)\n",
        "print(eval)\n",
        "key.append(\"Neural Networks\")\n",
        "predicted.append(eval[1])"
      ],
      "id": "ecsol47CGhl2",
      "execution_count": 31,
      "outputs": [
        {
          "output_type": "stream",
          "text": [
            "2/2 [==============================] - 0s 6ms/step - loss: 0.4839 - accuracy: 0.8525\n",
            "[0.4839456379413605, 0.8524590134620667]\n"
          ],
          "name": "stdout"
        }
      ]
    },
    {
      "cell_type": "markdown",
      "metadata": {
        "papermill": {
          "duration": 0.066,
          "end_time": "2021-04-21T21:35:10.691760",
          "exception": false,
          "start_time": "2021-04-21T21:35:10.625760",
          "status": "completed"
        },
        "tags": [],
        "id": "complicated-amateur"
      },
      "source": [
        "## **Accuracy Visualization**"
      ],
      "id": "complicated-amateur"
    },
    {
      "cell_type": "code",
      "metadata": {
        "execution": {
          "iopub.execute_input": "2021-04-21T21:35:10.831184Z",
          "iopub.status.busy": "2021-04-21T21:35:10.830426Z",
          "iopub.status.idle": "2021-04-21T21:35:11.009697Z",
          "shell.execute_reply": "2021-04-21T21:35:11.009161Z"
        },
        "papermill": {
          "duration": 0.251497,
          "end_time": "2021-04-21T21:35:11.009865",
          "exception": false,
          "start_time": "2021-04-21T21:35:10.758368",
          "status": "completed"
        },
        "tags": [],
        "colab": {
          "base_uri": "https://localhost:8080/",
          "height": 338
        },
        "id": "positive-stability",
        "outputId": "cd92d21c-063c-41a7-e196-91f5f0c90bd9"
      },
      "source": [
        "plt.figure(figsize = (10,5))\n",
        "sns.barplot(x = predicted, y = key)"
      ],
      "id": "positive-stability",
      "execution_count": 32,
      "outputs": [
        {
          "output_type": "execute_result",
          "data": {
            "text/plain": [
              "<matplotlib.axes._subplots.AxesSubplot at 0x7f6b28f0e4d0>"
            ]
          },
          "metadata": {
            "tags": []
          },
          "execution_count": 32
        },
        {
          "output_type": "display_data",
          "data": {
            "image/png": "[encoded data removed]",
            "text/plain": [
              "<Figure size 720x360 with 1 Axes>"
            ]
          },
          "metadata": {
            "tags": [],
            "needs_background": "light"
          }
        }
      ]
    },
    {
      "cell_type": "markdown",
      "metadata": {
        "papermill": {
          "duration": 0.148735,
          "end_time": "2021-04-21T21:35:11.226237",
          "exception": false,
          "start_time": "2021-04-21T21:35:11.077502",
          "status": "completed"
        },
        "tags": [],
        "id": "exact-article"
      },
      "source": [
        "It shows SVC is the best fit for this dataset because the accuracy 93%. Let's try to increase the efficiency by Hyper tuning."
      ],
      "id": "exact-article"
    },
    {
      "cell_type": "markdown",
      "metadata": {
        "papermill": {
          "duration": 0.067479,
          "end_time": "2021-04-21T21:35:11.361191",
          "exception": false,
          "start_time": "2021-04-21T21:35:11.293712",
          "status": "completed"
        },
        "tags": [],
        "id": "incredible-square"
      },
      "source": [
        "## Hyper tuning"
      ],
      "id": "incredible-square"
    },
    {
      "cell_type": "code",
      "metadata": {
        "execution": {
          "iopub.execute_input": "2021-04-21T21:35:11.504765Z",
          "iopub.status.busy": "2021-04-21T21:35:11.503788Z",
          "iopub.status.idle": "2021-04-21T21:35:11.515838Z",
          "shell.execute_reply": "2021-04-21T21:35:11.515118Z"
        },
        "papermill": {
          "duration": 0.086592,
          "end_time": "2021-04-21T21:35:11.515991",
          "exception": false,
          "start_time": "2021-04-21T21:35:11.429399",
          "status": "completed"
        },
        "tags": [],
        "colab": {
          "base_uri": "https://localhost:8080/"
        },
        "id": "unable-firewall",
        "outputId": "8c63dc96-08f5-477d-d66a-49415825c244"
      },
      "source": [
        "svc = SVC(kernel = 'rbf',C = 1, degree = 5, random_state = 0)\n",
        "svc.fit(x_train,y_train)\n",
        "svc_pred = svc.predict(x_test)\n",
        "print(\"Accuracy:\",accuracy_score(y_test,svc_pred))\n",
        "print(\"Confusion matrix:\\n\",confusion_matrix(y_test,svc_pred))"
      ],
      "id": "unable-firewall",
      "execution_count": 33,
      "outputs": [
        {
          "output_type": "stream",
          "text": [
            "Accuracy: 0.9344262295081968\n",
            "Confusion matrix:\n",
            " [[26  1]\n",
            " [ 3 31]]\n"
          ],
          "name": "stdout"
        }
      ]
    },
    {
      "cell_type": "markdown",
      "metadata": {
        "papermill": {
          "duration": 0.068435,
          "end_time": "2021-04-21T21:35:11.653428",
          "exception": false,
          "start_time": "2021-04-21T21:35:11.584993",
          "status": "completed"
        },
        "tags": [],
        "id": "unnecessary-parade"
      },
      "source": [
        "The accuracy remains same."
      ],
      "id": "unnecessary-parade"
    },
    {
      "cell_type": "markdown",
      "metadata": {
        "papermill": {
          "duration": 0.069189,
          "end_time": "2021-04-21T21:35:11.791653",
          "exception": false,
          "start_time": "2021-04-21T21:35:11.722464",
          "status": "completed"
        },
        "tags": [],
        "id": "whole-lexington"
      },
      "source": [
        "## Visualizing Best fit model\n",
        "\n",
        "We are using sns distplot which is a data distribution of the predicted vs actual heartattack rate against the density distribution"
      ],
      "id": "whole-lexington"
    },
    {
      "cell_type": "code",
      "metadata": {
        "execution": {
          "iopub.execute_input": "2021-04-21T21:35:11.933144Z",
          "iopub.status.busy": "2021-04-21T21:35:11.932443Z",
          "iopub.status.idle": "2021-04-21T21:35:12.107700Z",
          "shell.execute_reply": "2021-04-21T21:35:12.108312Z"
        },
        "papermill": {
          "duration": 0.247684,
          "end_time": "2021-04-21T21:35:12.108507",
          "exception": false,
          "start_time": "2021-04-21T21:35:11.860823",
          "status": "completed"
        },
        "tags": [],
        "id": "undefined-garage",
        "colab": {
          "base_uri": "https://localhost:8080/",
          "height": 320
        },
        "outputId": "ae3e66bb-04b1-4211-b300-a9cf2d209204"
      },
      "source": [
        "plt.figure(figsize = (10,5))\n",
        "sns.distplot(svc_pred, label = 'Predicted')\n",
        "sns.distplot(y_test, label = 'Actual')\n",
        "\n",
        "plt.legend([\"Predicted\", \"Actual\"])\n",
        "plt.show()\n"
      ],
      "id": "undefined-garage",
      "execution_count": 34,
      "outputs": [
        {
          "output_type": "display_data",
          "data": {
            "image/png": "[encoded data removed]",
            "text/plain": [
              "<Figure size 720x360 with 1 Axes>"
            ]
          },
          "metadata": {
            "tags": [],
            "needs_background": "light"
          }
        }
      ]
    }
  ]
}