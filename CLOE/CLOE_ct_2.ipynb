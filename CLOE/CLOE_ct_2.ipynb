{
  "nbformat": 4,
  "nbformat_minor": 0,
  "metadata": {
    "colab": {
      "name": "CLOE ct 2",
      "provenance": [],
      "collapsed_sections": []
    },
    "kernelspec": {
      "name": "python3",
      "display_name": "Python 3"
    },
    "language_info": {
      "name": "python"
    }
  },
  "cells": [
    {
      "cell_type": "markdown",
      "metadata": {
        "id": "y1bKHGBsnCin"
      },
      "source": [
        "**ANOVA**"
      ]
    },
    {
      "cell_type": "code",
      "metadata": {
        "id": "PPltVYFFmC8S"
      },
      "source": [
        "observations = [\n",
        "                [7, 7, 15, 11, 9],\n",
        "                [12, 17, 12, 18, 18],\n",
        "                [14, 18, 18, 19, 19],\n",
        "                [19, 25, 22, 19, 23],\n",
        "                [7, 10, 11, 15, 11]\n",
        "]\n",
        "n = len(observations)\n",
        "a = len(observations[0])"
      ],
      "execution_count": 1,
      "outputs": []
    },
    {
      "cell_type": "code",
      "metadata": {
        "colab": {
          "base_uri": "https://localhost:8080/"
        },
        "id": "MlH_tz7Xnzu5",
        "outputId": "3c17c308-5270-45cc-f039-0d1ce0b61df5"
      },
      "source": [
        "totals = [ sum(i) for i in observations ]\n",
        "print(totals)"
      ],
      "execution_count": 2,
      "outputs": [
        {
          "output_type": "stream",
          "name": "stdout",
          "text": [
            "[49, 77, 88, 108, 54]\n"
          ]
        }
      ]
    },
    {
      "cell_type": "code",
      "metadata": {
        "colab": {
          "base_uri": "https://localhost:8080/"
        },
        "id": "HxbXLyCMoLu7",
        "outputId": "2c3b35a0-47b2-49a1-c29a-6239efdfb31d"
      },
      "source": [
        "avg = [ i/n for i in totals ]\n",
        "print(avg)"
      ],
      "execution_count": 3,
      "outputs": [
        {
          "output_type": "stream",
          "name": "stdout",
          "text": [
            "[9.8, 15.4, 17.6, 21.6, 10.8]\n"
          ]
        }
      ]
    },
    {
      "cell_type": "code",
      "metadata": {
        "colab": {
          "base_uri": "https://localhost:8080/"
        },
        "id": "1EXPFihUohNR",
        "outputId": "a84d0967-9f7e-45c1-ff31-c81a6240c06c"
      },
      "source": [
        "grand_total = sum(totals)\n",
        "grand_mean = sum(avg)/a\n",
        "print(grand_total, grand_mean)"
      ],
      "execution_count": 4,
      "outputs": [
        {
          "output_type": "stream",
          "name": "stdout",
          "text": [
            "376 15.040000000000001\n"
          ]
        }
      ]
    },
    {
      "cell_type": "code",
      "metadata": {
        "colab": {
          "base_uri": "https://localhost:8080/"
        },
        "id": "Bjtj-OgQozTq",
        "outputId": "60aa0005-c568-4c41-c2a8-078db4bb7d3d"
      },
      "source": [
        "SS_total = 0\n",
        "print('SS_total = ')\n",
        "for i in range(len(observations)):\n",
        "  for j in range(len(observations[i])):\n",
        "    SS_total += (observations[i][j] - grand_mean)**2\n",
        "    print(f'({observations[i][j]} - {grand_mean})^2' + (f'\\n= {SS_total}' if i==a-1 and j==n-1 else ' + '))\n",
        "\n",
        "print('\\nSS_treatment = ')\n",
        "SS_treatment = 0\n",
        "for i in avg:\n",
        "  SS_treatment += n * (i-grand_mean)**2\n",
        "  print(f'{n} * ({i}-{grand_mean})^2 + ')\n",
        "print(f'= {SS_treatment}')\n",
        "\n",
        "SS_err = SS_total - SS_treatment\n",
        "\n",
        "print(f'\\nSS_err = SS_total - SS_treatment = {SS_total} - {SS_treatment} = {SS_err}')"
      ],
      "execution_count": 5,
      "outputs": [
        {
          "output_type": "stream",
          "name": "stdout",
          "text": [
            "SS_total = \n",
            "(7 - 15.040000000000001)^2 + \n",
            "(7 - 15.040000000000001)^2 + \n",
            "(15 - 15.040000000000001)^2 + \n",
            "(11 - 15.040000000000001)^2 + \n",
            "(9 - 15.040000000000001)^2 + \n",
            "(12 - 15.040000000000001)^2 + \n",
            "(17 - 15.040000000000001)^2 + \n",
            "(12 - 15.040000000000001)^2 + \n",
            "(18 - 15.040000000000001)^2 + \n",
            "(18 - 15.040000000000001)^2 + \n",
            "(14 - 15.040000000000001)^2 + \n",
            "(18 - 15.040000000000001)^2 + \n",
            "(18 - 15.040000000000001)^2 + \n",
            "(19 - 15.040000000000001)^2 + \n",
            "(19 - 15.040000000000001)^2 + \n",
            "(19 - 15.040000000000001)^2 + \n",
            "(25 - 15.040000000000001)^2 + \n",
            "(22 - 15.040000000000001)^2 + \n",
            "(19 - 15.040000000000001)^2 + \n",
            "(23 - 15.040000000000001)^2 + \n",
            "(7 - 15.040000000000001)^2 + \n",
            "(10 - 15.040000000000001)^2 + \n",
            "(11 - 15.040000000000001)^2 + \n",
            "(15 - 15.040000000000001)^2 + \n",
            "(11 - 15.040000000000001)^2\n",
            "= 636.96\n",
            "\n",
            "SS_treatment = \n",
            "5 * (9.8-15.040000000000001)^2 + \n",
            "5 * (15.4-15.040000000000001)^2 + \n",
            "5 * (17.6-15.040000000000001)^2 + \n",
            "5 * (21.6-15.040000000000001)^2 + \n",
            "5 * (10.8-15.040000000000001)^2 + \n",
            "= 475.7600000000001\n",
            "\n",
            "SS_err = SS_total - SS_treatment = 636.96 - 475.7600000000001 = 161.19999999999993\n"
          ]
        }
      ]
    },
    {
      "cell_type": "code",
      "metadata": {
        "id": "o45toMPOpt1p"
      },
      "source": [
        "DOF_total = n*a - 1\n",
        "DOF_treatment = a - 1\n",
        "DOF_err = a*n - a"
      ],
      "execution_count": 6,
      "outputs": []
    },
    {
      "cell_type": "code",
      "metadata": {
        "colab": {
          "base_uri": "https://localhost:8080/"
        },
        "id": "c_iS435cqA2Z",
        "outputId": "9d82f5bf-5b8d-4f23-ade0-2adc00f18e96"
      },
      "source": [
        "F_test = (SS_treatment/DOF_treatment) / (SS_err / DOF_err)\n",
        "print(f'DOF_total = N - 1 = n*a - 1 = {n}*{a} - 1 = {DOF_total}')\n",
        "print(f'DOF_treatment = a - 1 = {a} - 1 = {DOF_treatment}')\n",
        "print(f'DOF_treatment = N - a = n*a - a = {n}*{a} - {a} = {DOF_err}')\n",
        "\n",
        "print(f'F_test = (SS_treatment/DOF_treatment) / (SS_err / DOF_err) = ({SS_treatment}/{DOF_treatment}) / ({SS_err}/{DOF_err}) = {F_test}')"
      ],
      "execution_count": 7,
      "outputs": [
        {
          "output_type": "stream",
          "name": "stdout",
          "text": [
            "DOF_total = N - 1 = n*a - 1 = 5*5 - 1 = 24\n",
            "DOF_treatment = a - 1 = 5 - 1 = 4\n",
            "DOF_treatment = N - a = n*a - a = 5*5 - 5 = 20\n",
            "F_test = (SS_treatment/DOF_treatment) / (SS_err / DOF_err) = (475.7600000000001/4) / (161.19999999999993/20) = 14.756823821339959\n"
          ]
        }
      ]
    },
    {
      "cell_type": "markdown",
      "metadata": {
        "id": "noCoh1oAqukk"
      },
      "source": [
        "**Contrast**"
      ]
    },
    {
      "cell_type": "code",
      "metadata": {
        "id": "zXSsbhQLqLn6"
      },
      "source": [
        "C = [ 0, 0, 0, 1, -1 ] # [ mu_1, mu_2, ... ]"
      ],
      "execution_count": 8,
      "outputs": []
    },
    {
      "cell_type": "code",
      "metadata": {
        "colab": {
          "base_uri": "https://localhost:8080/"
        },
        "id": "1CLdt726sChg",
        "outputId": "3e65837c-8ab9-4bf2-d5dc-ddda4b27bf4f"
      },
      "source": [
        "MS_err = SS_err / DOF_err\n",
        "\n",
        "print('Summation of CiYi whole squared = (')\n",
        "x = 0\n",
        "for i in range(a):\n",
        "  x += (C[i] * totals[i])\n",
        "  print(f'({C[i]} * {totals[i]})' + (' + ' if i!=a-1 else f'\\n)^2 = \\n{x**2}'))\n",
        "\n",
        "SS_c_numerator = x ** 2\n",
        "\n",
        "y = 0\n",
        "print('Summation of Ci squared = (')\n",
        "for i in range(a):\n",
        "  y += (C[i])**2\n",
        "  print(f'{C[i]}^2' + (' + ' if i!=a-1 else f' ) =\\n {y}'))\n",
        "\n",
        "MS_c = SS_c_numerator / (n*y)\n",
        "print(f'MS_c = SS_c / DOF_c = Summation of CiYi whole squared / (n * Summation of Ci squared) = {SS_c_numerator} / {n}*{y} = {SS_c_numerator / (n*y)}')"
      ],
      "execution_count": 9,
      "outputs": [
        {
          "output_type": "stream",
          "name": "stdout",
          "text": [
            "Summation of CiYi whole squared = (\n",
            "(0 * 49) + \n",
            "(0 * 77) + \n",
            "(0 * 88) + \n",
            "(1 * 108) + \n",
            "(-1 * 54)\n",
            ")^2 = \n",
            "2916\n",
            "Summation of Ci squared = (\n",
            "0^2 + \n",
            "0^2 + \n",
            "0^2 + \n",
            "1^2 + \n",
            "-1^2 ) =\n",
            " 2\n",
            "MS_c = SS_c / DOF_c = Summation of CiYi whole squared / (n * Summation of Ci squared) = 2916 / 5*2 = 291.6\n"
          ]
        }
      ]
    },
    {
      "cell_type": "code",
      "metadata": {
        "colab": {
          "base_uri": "https://localhost:8080/"
        },
        "id": "fCr51pims9FM",
        "outputId": "eccbd23b-d83e-4b27-95f5-e261dfdc084c"
      },
      "source": [
        "F_test = MS_c / MS_err\n",
        "print(f'F_test = MS_c / MS_err = {MS_c} / {MS_err} = {F_test}')"
      ],
      "execution_count": 10,
      "outputs": [
        {
          "output_type": "stream",
          "name": "stdout",
          "text": [
            "F_test = MS_c / MS_err = 291.6 / 8.059999999999997 = 36.17866004962781\n"
          ]
        }
      ]
    },
    {
      "cell_type": "markdown",
      "metadata": {
        "id": "XrTUoNZFtk63"
      },
      "source": [
        "**LSD**"
      ]
    },
    {
      "cell_type": "code",
      "metadata": {
        "colab": {
          "base_uri": "https://localhost:8080/"
        },
        "id": "zYudmFQFtci5",
        "outputId": "9c69e38f-9926-408d-ed85-7ac337421bdc"
      },
      "source": [
        "for i in range(a):\n",
        "  for j in range(i+1, a):\n",
        "    print(f\"y{i+1}_dot_bar - y{j+1}_dot_bar = {avg[i]} - {avg[j]} = {avg[i]-avg[j]}\")"
      ],
      "execution_count": 11,
      "outputs": [
        {
          "output_type": "stream",
          "name": "stdout",
          "text": [
            "y1_dot_bar - y2_dot_bar = 9.8 - 15.4 = -5.6\n",
            "y1_dot_bar - y3_dot_bar = 9.8 - 17.6 = -7.800000000000001\n",
            "y1_dot_bar - y4_dot_bar = 9.8 - 21.6 = -11.8\n",
            "y1_dot_bar - y5_dot_bar = 9.8 - 10.8 = -1.0\n",
            "y2_dot_bar - y3_dot_bar = 15.4 - 17.6 = -2.200000000000001\n",
            "y2_dot_bar - y4_dot_bar = 15.4 - 21.6 = -6.200000000000001\n",
            "y2_dot_bar - y5_dot_bar = 15.4 - 10.8 = 4.6\n",
            "y3_dot_bar - y4_dot_bar = 17.6 - 21.6 = -4.0\n",
            "y3_dot_bar - y5_dot_bar = 17.6 - 10.8 = 6.800000000000001\n",
            "y4_dot_bar - y5_dot_bar = 21.6 - 10.8 = 10.8\n"
          ]
        }
      ]
    },
    {
      "cell_type": "code",
      "metadata": {
        "colab": {
          "base_uri": "https://localhost:8080/"
        },
        "id": "Ss27EXYMuVcr",
        "outputId": "5109f029-3d6b-4ef8-e91f-410f5e7c6f1f"
      },
      "source": [
        "print(f\"(N-a)root(2*MS_err/n) = ({n*a}-{a})root(2*{MS_err}/{n}) = {(n*a-a)*((2*MS_err / n)**(0.5))}\")"
      ],
      "execution_count": 12,
      "outputs": [
        {
          "output_type": "stream",
          "name": "stdout",
          "text": [
            "(N-a)root(2*MS_err/n) = (25-5)root(2*8.059999999999997/5) = 35.9110010999415\n"
          ]
        }
      ]
    },
    {
      "cell_type": "markdown",
      "metadata": {
        "id": "szZOmg28x8Yy"
      },
      "source": [
        "**Randomized blocks**"
      ]
    },
    {
      "cell_type": "code",
      "metadata": {
        "id": "p3m8VVcXu0b6"
      },
      "source": [
        "data = [\n",
        "        [70, 72, 80],\n",
        "        [76, 84, 82],\n",
        "        [82, 86, 84],\n",
        "        [90, 92, 88]\n",
        "]\n",
        "a = len(data)\n",
        "n = len(data[0])"
      ],
      "execution_count": 13,
      "outputs": []
    },
    {
      "cell_type": "code",
      "metadata": {
        "colab": {
          "base_uri": "https://localhost:8080/"
        },
        "id": "hyciktgyywik",
        "outputId": "255aad97-7b72-49ae-84f6-31bbd952ec9d"
      },
      "source": [
        "totals_vertical = [ sum(i) for i in data ]\n",
        "print(totals_vertical)\n",
        "\n",
        "avg_vertical = [ i/n for i in totals_vertical ]\n",
        "print(avg_vertical)"
      ],
      "execution_count": 14,
      "outputs": [
        {
          "output_type": "stream",
          "name": "stdout",
          "text": [
            "[222, 242, 252, 270]\n",
            "[74.0, 80.66666666666667, 84.0, 90.0]\n"
          ]
        }
      ]
    },
    {
      "cell_type": "code",
      "metadata": {
        "colab": {
          "base_uri": "https://localhost:8080/"
        },
        "id": "os6aYCgxy1TI",
        "outputId": "26948534-da59-4687-b3dd-566f4a656075"
      },
      "source": [
        "totals_horizontal = [ sum(i) for i in zip(*data) ]\n",
        "print(totals_horizontal)\n",
        "\n",
        "avg_horizontal = [ i/a for i in totals_horizontal ]\n",
        "print(avg_horizontal)"
      ],
      "execution_count": 15,
      "outputs": [
        {
          "output_type": "stream",
          "name": "stdout",
          "text": [
            "[318, 334, 334]\n",
            "[79.5, 83.5, 83.5]\n"
          ]
        }
      ]
    },
    {
      "cell_type": "code",
      "metadata": {
        "colab": {
          "base_uri": "https://localhost:8080/"
        },
        "id": "WkV-a8v3zKtG",
        "outputId": "e5dcbd9c-dc5a-4cbd-eb8a-1a97bdeb489d"
      },
      "source": [
        "grand_total = sum(totals_horizontal)\n",
        "grand_mean = sum(avg_vertical)/a\n",
        "print(grand_total, grand_mean)"
      ],
      "execution_count": 16,
      "outputs": [
        {
          "output_type": "stream",
          "name": "stdout",
          "text": [
            "986 82.16666666666667\n"
          ]
        }
      ]
    },
    {
      "cell_type": "code",
      "metadata": {
        "colab": {
          "base_uri": "https://localhost:8080/"
        },
        "id": "U0lbW4X4zYiK",
        "outputId": "838f1d0f-1703-46db-c650-5a11661011b6"
      },
      "source": [
        "# age group in class eg\n",
        "SS_vertical = 0\n",
        "print(f'SS_vertical = {n} * [')\n",
        "for i in avg_vertical:\n",
        "  SS_vertical += n * (i - grand_mean) ** 2\n",
        "  print(f'({i} - {grand_mean})^2 + ')\n",
        "\n",
        "print(f'] = {SS_vertical}')\n",
        "\n",
        "# drugs\n",
        "print(f'\\nSS_horizontal = {a} * [')\n",
        "SS_horizontal = 0\n",
        "for i in avg_horizontal:\n",
        "  SS_horizontal += a * (i - grand_mean) ** 2\n",
        "  print(f'({i} - {grand_mean})^2 +')\n",
        "\n",
        "print(f'] = {SS_horizontal}')"
      ],
      "execution_count": 17,
      "outputs": [
        {
          "output_type": "stream",
          "name": "stdout",
          "text": [
            "SS_vertical = 3 * [\n",
            "(74.0 - 82.16666666666667)^2 + \n",
            "(80.66666666666667 - 82.16666666666667)^2 + \n",
            "(84.0 - 82.16666666666667)^2 + \n",
            "(90.0 - 82.16666666666667)^2 + \n",
            "] = 401.0\n",
            "\n",
            "SS_horizontal = 4 * [\n",
            "(79.5 - 82.16666666666667)^2 +\n",
            "(83.5 - 82.16666666666667)^2 +\n",
            "(83.5 - 82.16666666666667)^2 +\n",
            "] = 42.66666666666667\n"
          ]
        }
      ]
    },
    {
      "cell_type": "code",
      "metadata": {
        "colab": {
          "base_uri": "https://localhost:8080/"
        },
        "id": "1EZf8CKP27u8",
        "outputId": "029ec726-2aee-4ade-e305-63eae121fd05"
      },
      "source": [
        "SS_total = 0\n",
        "print('SS_total = ')\n",
        "for i in range(len(data)):\n",
        "  for j in range(len(data[i])):\n",
        "    SS_total += (data[i][j] - grand_mean)**2\n",
        "    print(f'({data[i][j]} - {grand_mean})^2 +')\n",
        "\n",
        "print(f'= {SS_total}')\n",
        "\n",
        "SS_err = SS_total - SS_horizontal - SS_vertical\n",
        "print(f'\\nSS_err = SS_total - SS_horizontal - SS_vertical = {SS_total} - {SS_horizontal} - {SS_vertical} = {SS_err}')"
      ],
      "execution_count": 18,
      "outputs": [
        {
          "output_type": "stream",
          "name": "stdout",
          "text": [
            "SS_total = \n",
            "(70 - 82.16666666666667)^2 +\n",
            "(72 - 82.16666666666667)^2 +\n",
            "(80 - 82.16666666666667)^2 +\n",
            "(76 - 82.16666666666667)^2 +\n",
            "(84 - 82.16666666666667)^2 +\n",
            "(82 - 82.16666666666667)^2 +\n",
            "(82 - 82.16666666666667)^2 +\n",
            "(86 - 82.16666666666667)^2 +\n",
            "(84 - 82.16666666666667)^2 +\n",
            "(90 - 82.16666666666667)^2 +\n",
            "(92 - 82.16666666666667)^2 +\n",
            "(88 - 82.16666666666667)^2 +\n",
            "= 507.6666666666666\n",
            "\n",
            "SS_err = SS_total - SS_horizontal - SS_vertical = 507.6666666666666 - 42.66666666666667 - 401.0 = 63.999999999999886\n"
          ]
        }
      ]
    },
    {
      "cell_type": "code",
      "metadata": {
        "colab": {
          "base_uri": "https://localhost:8080/"
        },
        "id": "32b5QnR45PsB",
        "outputId": "5777e94e-28a6-4704-c149-339d731154c7"
      },
      "source": [
        "DOF_horizontal = n - 1\n",
        "DOF_vertical = a - 1\n",
        "DOF_err = (n-1) * (a-1)\n",
        "DOF_total = n*a\n",
        "print(f'DOF_horizontal = {n} - 1 = {DOF_horizontal}\\nDOF_vertical = {a} - 1 = {DOF_vertical}\\nDOF_err = {DOF_horizontal} * {DOF_vertical} = {DOF_err}\\nDOF_total = {n} * {a} = {DOF_total}')"
      ],
      "execution_count": 19,
      "outputs": [
        {
          "output_type": "stream",
          "name": "stdout",
          "text": [
            "DOF_horizontal = 3 - 1 = 2\n",
            "DOF_vertical = 4 - 1 = 3\n",
            "DOF_err = 2 * 3 = 6\n",
            "DOF_total = 3 * 4 = 12\n"
          ]
        }
      ]
    },
    {
      "cell_type": "code",
      "metadata": {
        "colab": {
          "base_uri": "https://localhost:8080/"
        },
        "id": "UWDFpqIG6BX5",
        "outputId": "7143307d-80d2-4a92-cf6b-2390303f2f33"
      },
      "source": [
        "MS_horizontal = SS_horizontal / DOF_horizontal\n",
        "MS_vertical = SS_vertical / DOF_vertical\n",
        "MS_err = SS_err / DOF_err\n",
        "print(f'MS_horizontal = {SS_horizontal} / {DOF_horizontal} = {MS_horizontal}\\nMS_vertical = {SS_vertical} / {DOF_vertical} = {MS_vertical}\\nMS_err = {SS_err} / {DOF_err} = {MS_err}')"
      ],
      "execution_count": 20,
      "outputs": [
        {
          "output_type": "stream",
          "name": "stdout",
          "text": [
            "MS_horizontal = 42.66666666666667 / 2 = 21.333333333333336\n",
            "MS_vertical = 401.0 / 3 = 133.66666666666666\n",
            "MS_err = 63.999999999999886 / 6 = 10.666666666666648\n"
          ]
        }
      ]
    },
    {
      "cell_type": "code",
      "metadata": {
        "colab": {
          "base_uri": "https://localhost:8080/"
        },
        "id": "ED-ECWqf6SCy",
        "outputId": "5f9f5530-9c26-4f9f-be8a-1fe0f96bff82"
      },
      "source": [
        "F_test_vertical = MS_vertical / MS_err\n",
        "F_test_horizontal = MS_horizontal / MS_err\n",
        "print(f'F_test_vertical = {MS_vertical} / {MS_err} = {F_test_vertical}\\nF_test_horizontal = {MS_horizontal} / {MS_err} = {F_test_horizontal}')"
      ],
      "execution_count": 21,
      "outputs": [
        {
          "output_type": "stream",
          "name": "stdout",
          "text": [
            "F_test_vertical = 133.66666666666666 / 10.666666666666648 = 12.531250000000021\n",
            "F_test_horizontal = 21.333333333333336 / 10.666666666666648 = 2.0000000000000036\n"
          ]
        }
      ]
    },
    {
      "cell_type": "markdown",
      "metadata": {
        "id": "iUYkc_Xp6ppK"
      },
      "source": [
        "**Factorial Design**"
      ]
    },
    {
      "cell_type": "code",
      "metadata": {
        "id": "fnexcHsr6lx5"
      },
      "source": [
        "\"\"\"\n",
        "A B AB\n",
        "- - +\n",
        "+ - -\n",
        "- + -\n",
        "+ + +\n",
        "\"\"\"\n",
        "\n",
        "signs = [\n",
        "        [-1, -1, 1],\n",
        "        [1, -1, -1],\n",
        "        [-1, 1, -1],\n",
        "        [1, 1, 1]\n",
        "]\n",
        "\n",
        "replicates = [\n",
        "              [28, 25, 27],\n",
        "              [36, 32, 32],\n",
        "              [18, 19, 23],\n",
        "              [31, 30, 29]\n",
        "]\n",
        "\n",
        "n = len(replicates[0])"
      ],
      "execution_count": 22,
      "outputs": []
    },
    {
      "cell_type": "code",
      "metadata": {
        "colab": {
          "base_uri": "https://localhost:8080/"
        },
        "id": "Cb5HHNP69mXh",
        "outputId": "adae9d13-7ac0-46fc-f90e-2800462f8929"
      },
      "source": [
        "totals = [ sum(i) for i in replicates ]\n",
        "print(totals)"
      ],
      "execution_count": 23,
      "outputs": [
        {
          "output_type": "stream",
          "name": "stdout",
          "text": [
            "[80, 100, 60, 90]\n"
          ]
        }
      ]
    },
    {
      "cell_type": "code",
      "metadata": {
        "colab": {
          "base_uri": "https://localhost:8080/"
        },
        "id": "9f9Ahobh9wqd",
        "outputId": "45c362bd-6f26-4695-cfda-f74d353a7bc5"
      },
      "source": [
        "print(\"Factor\\tContrast\\tEffect\\t\\tSS\")\n",
        "contrast_A = 0\n",
        "for i in range(len(totals)):\n",
        "  contrast_A += signs[i][0] * totals[i]\n",
        "\n",
        "effect_A = contrast_A / (2 * n)\n",
        "SS_A = (contrast_A ** 2) / (4 * n)\n",
        "print(f\"A\\t{contrast_A}\\t{effect_A}\\t{SS_A}\")\n",
        "\n",
        "\n",
        "contrast_B = 0\n",
        "for i in range(len(totals)):\n",
        "  contrast_B += signs[i][1] * totals[i]\n",
        "\n",
        "effect_B = contrast_B / (2 * n)\n",
        "SS_B = (contrast_B ** 2) / (4 * n)\n",
        "print(f\"B\\t{contrast_B}\\t{effect_B}\\t{SS_B}\")\n",
        "\n",
        "\n",
        "contrast_AB = 0\n",
        "for i in range(len(totals)):\n",
        "  contrast_AB += signs[i][2] * totals[i]\n",
        "\n",
        "effect_AB = contrast_AB / (2 * n)\n",
        "SS_AB = (contrast_AB ** 2) / (4 * n)\n",
        "print(f\"AB\\t{contrast_AB}\\t{effect_AB}\\t{SS_AB}\")"
      ],
      "execution_count": 24,
      "outputs": [
        {
          "output_type": "stream",
          "name": "stdout",
          "text": [
            "Factor\tContrast\tEffect\t\tSS\n",
            "A\t50\t8.333333333333334\t208.33333333333334\n",
            "B\t-30\t-5.0\t75.0\n",
            "AB\t10\t1.6666666666666667\t8.333333333333334\n"
          ]
        }
      ]
    },
    {
      "cell_type": "code",
      "metadata": {
        "colab": {
          "base_uri": "https://localhost:8080/"
        },
        "id": "R7sx3e8L_9qK",
        "outputId": "4a9c9979-8b2e-4b00-c0e7-d83c2c411a4e"
      },
      "source": [
        "avg = [ i/n for i in totals ]\n",
        "print(avg)"
      ],
      "execution_count": 25,
      "outputs": [
        {
          "output_type": "stream",
          "name": "stdout",
          "text": [
            "[26.666666666666668, 33.333333333333336, 20.0, 30.0]\n"
          ]
        }
      ]
    },
    {
      "cell_type": "code",
      "metadata": {
        "colab": {
          "base_uri": "https://localhost:8080/"
        },
        "id": "mzQ8kdbCBZlx",
        "outputId": "74a0bd27-bbf4-4b01-9a4c-e3f9767e6c85"
      },
      "source": [
        "grand_total = sum(totals)\n",
        "grand_mean = sum(avg)/a\n",
        "print(grand_total, grand_mean)"
      ],
      "execution_count": 26,
      "outputs": [
        {
          "output_type": "stream",
          "name": "stdout",
          "text": [
            "330 27.5\n"
          ]
        }
      ]
    },
    {
      "cell_type": "code",
      "metadata": {
        "colab": {
          "base_uri": "https://localhost:8080/"
        },
        "id": "5rdxUtTgBbSy",
        "outputId": "8dec8fb7-6021-4d94-ded4-57fd36e74905"
      },
      "source": [
        "print('SS_total = ')\n",
        "SS_total = 0\n",
        "for i in range(len(replicates)):\n",
        "  for j in range(len(replicates[i])):\n",
        "    SS_total += (replicates[i][j] - grand_mean)**2\n",
        "    print(f'({replicates[i][j]} - {grand_mean})^2 + ')\n",
        "\n",
        "print(f'= {SS_total}')\n",
        "\n",
        "SS_err = SS_total - SS_A - SS_B - SS_AB\n",
        "print(f\"\\nSS_err = SS_total - SS_A - SS_B - SS_AB = {SS_total} - {SS_A} - {SS_B} - {SS_AB} = {SS_err}\")"
      ],
      "execution_count": 27,
      "outputs": [
        {
          "output_type": "stream",
          "name": "stdout",
          "text": [
            "SS_total = \n",
            "(28 - 27.5)^2 + \n",
            "(25 - 27.5)^2 + \n",
            "(27 - 27.5)^2 + \n",
            "(36 - 27.5)^2 + \n",
            "(32 - 27.5)^2 + \n",
            "(32 - 27.5)^2 + \n",
            "(18 - 27.5)^2 + \n",
            "(19 - 27.5)^2 + \n",
            "(23 - 27.5)^2 + \n",
            "(31 - 27.5)^2 + \n",
            "(30 - 27.5)^2 + \n",
            "(29 - 27.5)^2 + \n",
            "= 323.0\n",
            "\n",
            "SS_err = SS_total - SS_A - SS_B - SS_AB = 323.0 - 208.33333333333334 - 75.0 - 8.333333333333334 = 31.33333333333332\n"
          ]
        }
      ]
    },
    {
      "cell_type": "code",
      "metadata": {
        "colab": {
          "base_uri": "https://localhost:8080/"
        },
        "id": "GJNnZdumBoWB",
        "outputId": "fde0698e-ff95-4510-8235-350e962fb704"
      },
      "source": [
        "a = len(replicates)\n",
        "DOF_err = n*a - a\n",
        "DOF_total = n*a - 1\n",
        "DOF_A = DOF_B = DOF_AB = 1\n",
        "print(f\"a = {len(replicates)}\\nDOF_err = n*a - a = {n}*{a} - {a} = {DOF_err}\\nDOF_total = n*a - 1 = {n}*{a} - 1 = {DOF_total}\\nDOF_A = DOF_B = DOF_AB = 1\")"
      ],
      "execution_count": 28,
      "outputs": [
        {
          "output_type": "stream",
          "name": "stdout",
          "text": [
            "a = 4\n",
            "DOF_err = n*a - a = 3*4 - 4 = 8\n",
            "DOF_total = n*a - 1 = 3*4 - 1 = 11\n",
            "DOF_A = DOF_B = DOF_AB = 1\n"
          ]
        }
      ]
    },
    {
      "cell_type": "code",
      "metadata": {
        "colab": {
          "base_uri": "https://localhost:8080/"
        },
        "id": "Pal-1mNZCeWy",
        "outputId": "dd304f0f-b35d-49d4-ba55-2c7f45f73df0"
      },
      "source": [
        "MS_A = SS_A / DOF_A\n",
        "print(f'MS_A = SS_A / DOF_A = {SS_A} / {DOF_A} = {MS_A}')\n",
        "\n",
        "MS_B = SS_B / DOF_B\n",
        "print(f'MS_B = SS_B / DOF_B = {SS_B} / {DOF_B} = {MS_B}')\n",
        "\n",
        "MS_AB = SS_AB / DOF_AB\n",
        "print(f'MS_AB = SS_AB / DOF_AB = {SS_AB} / {DOF_AB} = {MS_AB}')\n",
        "\n",
        "MS_err = SS_err / DOF_err\n",
        "print(f'MS_err = SS_err / DOF_err = {SS_err} / {DOF_err} = {MS_err}')"
      ],
      "execution_count": 29,
      "outputs": [
        {
          "output_type": "stream",
          "name": "stdout",
          "text": [
            "MS_A = SS_A / DOF_A = 208.33333333333334 / 1 = 208.33333333333334\n",
            "MS_B = SS_B / DOF_B = 75.0 / 1 = 75.0\n",
            "MS_AB = SS_AB / DOF_AB = 8.333333333333334 / 1 = 8.333333333333334\n",
            "MS_err = SS_err / DOF_err = 31.33333333333332 / 8 = 3.916666666666665\n"
          ]
        }
      ]
    },
    {
      "cell_type": "code",
      "metadata": {
        "colab": {
          "base_uri": "https://localhost:8080/"
        },
        "id": "uBStqFn3C4ky",
        "outputId": "e9b7fda6-408c-4c84-9f43-a96a1d30169c"
      },
      "source": [
        "F_test_A = MS_A / MS_err\n",
        "F_test_B = MS_B / MS_err\n",
        "F_test_AB = MS_AB / MS_err\n",
        "\n",
        "print(f'F_test_A = MS_A / MS_err = {MS_A} / {MS_err} = {F_test_A} \\n F_test_B = MS_B / MS_err = {MS_B} / {MS_err} = {F_test_B} \\n F_test_AB = MS_AB / MS_err = {MS_AB} / {MS_err} = {F_test_AB}')"
      ],
      "execution_count": 30,
      "outputs": [
        {
          "output_type": "stream",
          "name": "stdout",
          "text": [
            "F_test_A = MS_A / MS_err = 208.33333333333334 / 3.916666666666665 = 53.19148936170215 \n",
            " F_test_B = MS_B / MS_err = 75.0 / 3.916666666666665 = 19.148936170212774 \n",
            " F_test_AB = MS_AB / MS_err = 8.333333333333334 / 3.916666666666665 = 2.127659574468086\n"
          ]
        }
      ]
    },
    {
      "cell_type": "code",
      "metadata": {
        "colab": {
          "base_uri": "https://localhost:8080/"
        },
        "id": "DoFc-0aIDP-y",
        "outputId": "6ffbbfd3-5db6-484f-b8cb-2d31c81eeebc"
      },
      "source": [
        "extremes_A = [15, 25]\n",
        "extremes_B = [1, 2]\n",
        "\n",
        "print((extremes_A[0] + extremes_A[1])/2, (extremes_A[1] - extremes_A[0])/2)\n",
        "print((extremes_B[0] + extremes_B[1])/2, (extremes_B[1] - extremes_B[0])/2)"
      ],
      "execution_count": 31,
      "outputs": [
        {
          "output_type": "stream",
          "name": "stdout",
          "text": [
            "20.0 5.0\n",
            "1.5 0.5\n"
          ]
        }
      ]
    },
    {
      "cell_type": "code",
      "metadata": {
        "id": "eDsqMACuEBeS"
      },
      "source": [
        ""
      ],
      "execution_count": 31,
      "outputs": []
    }
  ]
}